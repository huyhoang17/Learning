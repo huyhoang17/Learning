{
 "cells": [
  {
   "cell_type": "code",
   "execution_count": 1,
   "metadata": {
    "collapsed": true
   },
   "outputs": [],
   "source": [
    "import pandas as pd\n",
    "import numpy as np"
   ]
  },
  {
   "cell_type": "code",
   "execution_count": 2,
   "metadata": {
    "collapsed": false
   },
   "outputs": [
    {
     "data": {
      "text/html": [
       "<div>\n",
       "<table border=\"1\" class=\"dataframe\">\n",
       "  <thead>\n",
       "    <tr style=\"text-align: right;\">\n",
       "      <th></th>\n",
       "      <th>PLAYER</th>\n",
       "      <th>SALARY</th>\n",
       "      <th>GP</th>\n",
       "      <th>G</th>\n",
       "      <th>A</th>\n",
       "      <th>SOT</th>\n",
       "      <th>PPG</th>\n",
       "      <th>P</th>\n",
       "    </tr>\n",
       "  </thead>\n",
       "  <tbody>\n",
       "    <tr>\n",
       "      <th>0</th>\n",
       "      <td>Sergio Agüero\\n Forward — Manchester City</td>\n",
       "      <td>$19.2m</td>\n",
       "      <td>16.0</td>\n",
       "      <td>14</td>\n",
       "      <td>3.0</td>\n",
       "      <td>34</td>\n",
       "      <td>13.12</td>\n",
       "      <td>209.98</td>\n",
       "    </tr>\n",
       "    <tr>\n",
       "      <th>1</th>\n",
       "      <td>Eden Hazard\\n Midfield — Chelsea</td>\n",
       "      <td>$18.9m</td>\n",
       "      <td>21.0</td>\n",
       "      <td>8</td>\n",
       "      <td>4.0</td>\n",
       "      <td>17</td>\n",
       "      <td>13.05</td>\n",
       "      <td>274.04</td>\n",
       "    </tr>\n",
       "    <tr>\n",
       "      <th>2</th>\n",
       "      <td>Alexis Sánchez\\n Forward — Arsenal</td>\n",
       "      <td>$17.6m</td>\n",
       "      <td>NaN</td>\n",
       "      <td>12</td>\n",
       "      <td>7.0</td>\n",
       "      <td>29</td>\n",
       "      <td>11.19</td>\n",
       "      <td>223.86</td>\n",
       "    </tr>\n",
       "    <tr>\n",
       "      <th>3</th>\n",
       "      <td>Yaya Touré\\n Midfield — Manchester City</td>\n",
       "      <td>$16.6m</td>\n",
       "      <td>18.0</td>\n",
       "      <td>7</td>\n",
       "      <td>1.0</td>\n",
       "      <td>19</td>\n",
       "      <td>10.99</td>\n",
       "      <td>197.91</td>\n",
       "    </tr>\n",
       "    <tr>\n",
       "      <th>4</th>\n",
       "      <td>Ángel Di María\\n Midfield — Manchester United</td>\n",
       "      <td>$15.0m</td>\n",
       "      <td>13.0</td>\n",
       "      <td>3</td>\n",
       "      <td>NaN</td>\n",
       "      <td>13</td>\n",
       "      <td>10.17</td>\n",
       "      <td>132.23</td>\n",
       "    </tr>\n",
       "    <tr>\n",
       "      <th>5</th>\n",
       "      <td>Santiago Cazorla\\n Midfield — Arsenal</td>\n",
       "      <td>$14.8m</td>\n",
       "      <td>20.0</td>\n",
       "      <td>4</td>\n",
       "      <td>NaN</td>\n",
       "      <td>20</td>\n",
       "      <td>9.97</td>\n",
       "      <td>NaN</td>\n",
       "    </tr>\n",
       "    <tr>\n",
       "      <th>6</th>\n",
       "      <td>David Silva\\n Midfield — Manchester City</td>\n",
       "      <td>$14.3m</td>\n",
       "      <td>15.0</td>\n",
       "      <td>6</td>\n",
       "      <td>2.0</td>\n",
       "      <td>11</td>\n",
       "      <td>10.35</td>\n",
       "      <td>155.26</td>\n",
       "    </tr>\n",
       "    <tr>\n",
       "      <th>7</th>\n",
       "      <td>Cesc Fàbregas\\n Midfield — Chelsea</td>\n",
       "      <td>$14.0m</td>\n",
       "      <td>20.0</td>\n",
       "      <td>2</td>\n",
       "      <td>14.0</td>\n",
       "      <td>10</td>\n",
       "      <td>10.47</td>\n",
       "      <td>209.49</td>\n",
       "    </tr>\n",
       "    <tr>\n",
       "      <th>8</th>\n",
       "      <td>Saido Berahino\\n Forward — West Brom</td>\n",
       "      <td>$13.8m</td>\n",
       "      <td>21.0</td>\n",
       "      <td>9</td>\n",
       "      <td>0.0</td>\n",
       "      <td>20</td>\n",
       "      <td>7.02</td>\n",
       "      <td>147.43</td>\n",
       "    </tr>\n",
       "    <tr>\n",
       "      <th>9</th>\n",
       "      <td>Steven Gerrard\\n Midfield — Liverpool</td>\n",
       "      <td>$13.8m</td>\n",
       "      <td>20.0</td>\n",
       "      <td>5</td>\n",
       "      <td>1.0</td>\n",
       "      <td>11</td>\n",
       "      <td>7.50</td>\n",
       "      <td>150.01</td>\n",
       "    </tr>\n",
       "  </tbody>\n",
       "</table>\n",
       "</div>"
      ],
      "text/plain": [
       "                                          PLAYER  SALARY    GP   G     A  SOT  \\\n",
       "0      Sergio Agüero\\n Forward — Manchester City  $19.2m  16.0  14   3.0   34   \n",
       "1               Eden Hazard\\n Midfield — Chelsea  $18.9m  21.0   8   4.0   17   \n",
       "2             Alexis Sánchez\\n Forward — Arsenal  $17.6m   NaN  12   7.0   29   \n",
       "3        Yaya Touré\\n Midfield — Manchester City  $16.6m  18.0   7   1.0   19   \n",
       "4  Ángel Di María\\n Midfield — Manchester United  $15.0m  13.0   3   NaN   13   \n",
       "5          Santiago Cazorla\\n Midfield — Arsenal  $14.8m  20.0   4   NaN   20   \n",
       "6       David Silva\\n Midfield — Manchester City  $14.3m  15.0   6   2.0   11   \n",
       "7             Cesc Fàbregas\\n Midfield — Chelsea  $14.0m  20.0   2  14.0   10   \n",
       "8           Saido Berahino\\n Forward — West Brom  $13.8m  21.0   9   0.0   20   \n",
       "9          Steven Gerrard\\n Midfield — Liverpool  $13.8m  20.0   5   1.0   11   \n",
       "\n",
       "     PPG       P  \n",
       "0  13.12  209.98  \n",
       "1  13.05  274.04  \n",
       "2  11.19  223.86  \n",
       "3  10.99  197.91  \n",
       "4  10.17  132.23  \n",
       "5   9.97     NaN  \n",
       "6  10.35  155.26  \n",
       "7  10.47  209.49  \n",
       "8   7.02  147.43  \n",
       "9   7.50  150.01  "
      ]
     },
     "execution_count": 2,
     "metadata": {},
     "output_type": "execute_result"
    }
   ],
   "source": [
    "url = 'https://raw.githubusercontent.com/rasbt/python_reference/master/Data/some_soccer_data.csv'\n",
    "df = pd.read_csv(url)\n",
    "df"
   ]
  },
  {
   "cell_type": "code",
   "execution_count": 3,
   "metadata": {
    "collapsed": false
   },
   "outputs": [
    {
     "data": {
      "text/html": [
       "<div>\n",
       "<table border=\"1\" class=\"dataframe\">\n",
       "  <thead>\n",
       "    <tr style=\"text-align: right;\">\n",
       "      <th></th>\n",
       "      <th>PLAYER,SALARY,GP,G,A,SOT,PPG,P</th>\n",
       "    </tr>\n",
       "  </thead>\n",
       "  <tbody>\n",
       "    <tr>\n",
       "      <th>0</th>\n",
       "      <td>Sergio Agüero\\n Forward — Manchester City,$19....</td>\n",
       "    </tr>\n",
       "    <tr>\n",
       "      <th>1</th>\n",
       "      <td>Eden Hazard\\n Midfield — Chelsea,$18.9m,21,8,4...</td>\n",
       "    </tr>\n",
       "    <tr>\n",
       "      <th>2</th>\n",
       "      <td>Alexis Sánchez\\n Forward — Arsenal,$17.6m,,12,...</td>\n",
       "    </tr>\n",
       "    <tr>\n",
       "      <th>3</th>\n",
       "      <td>Yaya Touré\\n Midfield — Manchester City,$16.6m...</td>\n",
       "    </tr>\n",
       "    <tr>\n",
       "      <th>4</th>\n",
       "      <td>Ángel Di María\\n Midfield — Manchester United,...</td>\n",
       "    </tr>\n",
       "    <tr>\n",
       "      <th>5</th>\n",
       "      <td>Santiago Cazorla\\n Midfield — Arsenal,$14.8m,2...</td>\n",
       "    </tr>\n",
       "    <tr>\n",
       "      <th>6</th>\n",
       "      <td>David Silva\\n Midfield — Manchester City,$14.3...</td>\n",
       "    </tr>\n",
       "    <tr>\n",
       "      <th>7</th>\n",
       "      <td>Cesc Fàbregas\\n Midfield — Chelsea,$14.0m,20,2...</td>\n",
       "    </tr>\n",
       "    <tr>\n",
       "      <th>8</th>\n",
       "      <td>Saido Berahino\\n Forward — West Brom,$13.8m,21...</td>\n",
       "    </tr>\n",
       "    <tr>\n",
       "      <th>9</th>\n",
       "      <td>Steven Gerrard\\n Midfield — Liverpool,$13.8m,2...</td>\n",
       "    </tr>\n",
       "  </tbody>\n",
       "</table>\n",
       "</div>"
      ],
      "text/plain": [
       "                      PLAYER,SALARY,GP,G,A,SOT,PPG,P\n",
       "0  Sergio Agüero\\n Forward — Manchester City,$19....\n",
       "1  Eden Hazard\\n Midfield — Chelsea,$18.9m,21,8,4...\n",
       "2  Alexis Sánchez\\n Forward — Arsenal,$17.6m,,12,...\n",
       "3  Yaya Touré\\n Midfield — Manchester City,$16.6m...\n",
       "4  Ángel Di María\\n Midfield — Manchester United,...\n",
       "5  Santiago Cazorla\\n Midfield — Arsenal,$14.8m,2...\n",
       "6  David Silva\\n Midfield — Manchester City,$14.3...\n",
       "7  Cesc Fàbregas\\n Midfield — Chelsea,$14.0m,20,2...\n",
       "8  Saido Berahino\\n Forward — West Brom,$13.8m,21...\n",
       "9  Steven Gerrard\\n Midfield — Liverpool,$13.8m,2..."
      ]
     },
     "execution_count": 3,
     "metadata": {},
     "output_type": "execute_result"
    }
   ],
   "source": [
    "df2 = pd.read_table(url)\n",
    "df2"
   ]
  },
  {
   "cell_type": "markdown",
   "metadata": {},
   "source": [
    "# Renaming Columns"
   ]
  },
  {
   "cell_type": "code",
   "execution_count": 4,
   "metadata": {
    "collapsed": false
   },
   "outputs": [
    {
     "data": {
      "text/plain": [
       "Index(['PLAYER', 'SALARY', 'GP', 'G', 'A', 'SOT', 'PPG', 'P'], dtype='object')"
      ]
     },
     "execution_count": 4,
     "metadata": {},
     "output_type": "execute_result"
    }
   ],
   "source": [
    "df.columns"
   ]
  },
  {
   "cell_type": "code",
   "execution_count": 5,
   "metadata": {
    "collapsed": false
   },
   "outputs": [
    {
     "data": {
      "text/plain": [
       "RangeIndex(start=0, stop=10, step=1)"
      ]
     },
     "execution_count": 5,
     "metadata": {},
     "output_type": "execute_result"
    }
   ],
   "source": [
    "df.index"
   ]
  },
  {
   "cell_type": "code",
   "execution_count": 6,
   "metadata": {
    "collapsed": false
   },
   "outputs": [
    {
     "data": {
      "text/plain": [
       "array([['Sergio Agüero\\n Forward — Manchester City', '$19.2m', 16.0, 14,\n",
       "        3.0, 34, 13.12, 209.98],\n",
       "       ['Eden Hazard\\n Midfield — Chelsea', '$18.9m', 21.0, 8, 4.0, 17,\n",
       "        13.05, 274.04],\n",
       "       ['Alexis Sánchez\\n Forward — Arsenal', '$17.6m', nan, 12, 7.0, 29,\n",
       "        11.19, 223.86],\n",
       "       ['Yaya Touré\\n Midfield — Manchester City', '$16.6m', 18.0, 7, 1.0,\n",
       "        19, 10.99, 197.91],\n",
       "       ['Ángel Di María\\n Midfield — Manchester United', '$15.0m', 13.0, 3,\n",
       "        nan, 13, 10.17, 132.23],\n",
       "       ['Santiago Cazorla\\n Midfield — Arsenal', '$14.8m', 20.0, 4, nan,\n",
       "        20, 9.97, nan],\n",
       "       ['David Silva\\n Midfield — Manchester City', '$14.3m', 15.0, 6, 2.0,\n",
       "        11, 10.35, 155.26],\n",
       "       ['Cesc Fàbregas\\n Midfield — Chelsea', '$14.0m', 20.0, 2, 14.0, 10,\n",
       "        10.47, 209.49],\n",
       "       ['Saido Berahino\\n Forward — West Brom', '$13.8m', 21.0, 9, 0.0, 20,\n",
       "        7.02, 147.43],\n",
       "       ['Steven Gerrard\\n Midfield — Liverpool', '$13.8m', 20.0, 5, 1.0,\n",
       "        11, 7.5, 150.01]], dtype=object)"
      ]
     },
     "execution_count": 6,
     "metadata": {},
     "output_type": "execute_result"
    }
   ],
   "source": [
    "df.values"
   ]
  },
  {
   "cell_type": "code",
   "execution_count": 7,
   "metadata": {
    "collapsed": false
   },
   "outputs": [
    {
     "data": {
      "text/html": [
       "<div>\n",
       "<table border=\"1\" class=\"dataframe\">\n",
       "  <thead>\n",
       "    <tr style=\"text-align: right;\">\n",
       "      <th></th>\n",
       "      <th>player</th>\n",
       "      <th>salary</th>\n",
       "      <th>gp</th>\n",
       "      <th>g</th>\n",
       "      <th>a</th>\n",
       "      <th>sot</th>\n",
       "      <th>ppg</th>\n",
       "      <th>p</th>\n",
       "    </tr>\n",
       "  </thead>\n",
       "  <tbody>\n",
       "    <tr>\n",
       "      <th>0</th>\n",
       "      <td>Sergio Agüero\\n Forward — Manchester City</td>\n",
       "      <td>$19.2m</td>\n",
       "      <td>16.0</td>\n",
       "      <td>14</td>\n",
       "      <td>3.0</td>\n",
       "      <td>34</td>\n",
       "      <td>13.12</td>\n",
       "      <td>209.98</td>\n",
       "    </tr>\n",
       "    <tr>\n",
       "      <th>1</th>\n",
       "      <td>Eden Hazard\\n Midfield — Chelsea</td>\n",
       "      <td>$18.9m</td>\n",
       "      <td>21.0</td>\n",
       "      <td>8</td>\n",
       "      <td>4.0</td>\n",
       "      <td>17</td>\n",
       "      <td>13.05</td>\n",
       "      <td>274.04</td>\n",
       "    </tr>\n",
       "    <tr>\n",
       "      <th>2</th>\n",
       "      <td>Alexis Sánchez\\n Forward — Arsenal</td>\n",
       "      <td>$17.6m</td>\n",
       "      <td>NaN</td>\n",
       "      <td>12</td>\n",
       "      <td>7.0</td>\n",
       "      <td>29</td>\n",
       "      <td>11.19</td>\n",
       "      <td>223.86</td>\n",
       "    </tr>\n",
       "    <tr>\n",
       "      <th>3</th>\n",
       "      <td>Yaya Touré\\n Midfield — Manchester City</td>\n",
       "      <td>$16.6m</td>\n",
       "      <td>18.0</td>\n",
       "      <td>7</td>\n",
       "      <td>1.0</td>\n",
       "      <td>19</td>\n",
       "      <td>10.99</td>\n",
       "      <td>197.91</td>\n",
       "    </tr>\n",
       "    <tr>\n",
       "      <th>4</th>\n",
       "      <td>Ángel Di María\\n Midfield — Manchester United</td>\n",
       "      <td>$15.0m</td>\n",
       "      <td>13.0</td>\n",
       "      <td>3</td>\n",
       "      <td>NaN</td>\n",
       "      <td>13</td>\n",
       "      <td>10.17</td>\n",
       "      <td>132.23</td>\n",
       "    </tr>\n",
       "  </tbody>\n",
       "</table>\n",
       "</div>"
      ],
      "text/plain": [
       "                                          player  salary    gp   g    a  sot  \\\n",
       "0      Sergio Agüero\\n Forward — Manchester City  $19.2m  16.0  14  3.0   34   \n",
       "1               Eden Hazard\\n Midfield — Chelsea  $18.9m  21.0   8  4.0   17   \n",
       "2             Alexis Sánchez\\n Forward — Arsenal  $17.6m   NaN  12  7.0   29   \n",
       "3        Yaya Touré\\n Midfield — Manchester City  $16.6m  18.0   7  1.0   19   \n",
       "4  Ángel Di María\\n Midfield — Manchester United  $15.0m  13.0   3  NaN   13   \n",
       "\n",
       "     ppg       p  \n",
       "0  13.12  209.98  \n",
       "1  13.05  274.04  \n",
       "2  11.19  223.86  \n",
       "3  10.99  197.91  \n",
       "4  10.17  132.23  "
      ]
     },
     "execution_count": 7,
     "metadata": {},
     "output_type": "execute_result"
    }
   ],
   "source": [
    "df.columns = [c.lower() for c in df.columns]\n",
    "\n",
    "# or \n",
    "# df.rename(columns=lambda x: x.lower())\n",
    "df.head(5)"
   ]
  },
  {
   "cell_type": "markdown",
   "metadata": {},
   "source": [
    "### Renaming Particular Columns"
   ]
  },
  {
   "cell_type": "code",
   "execution_count": 9,
   "metadata": {
    "collapsed": false
   },
   "outputs": [
    {
     "data": {
      "text/html": [
       "<div>\n",
       "<table border=\"1\" class=\"dataframe\">\n",
       "  <thead>\n",
       "    <tr style=\"text-align: right;\">\n",
       "      <th></th>\n",
       "      <th>player</th>\n",
       "      <th>salary</th>\n",
       "      <th>games</th>\n",
       "      <th>goals</th>\n",
       "      <th>assists</th>\n",
       "      <th>shot_on_target</th>\n",
       "      <th>point_per_game</th>\n",
       "      <th>points</th>\n",
       "    </tr>\n",
       "  </thead>\n",
       "  <tbody>\n",
       "    <tr>\n",
       "      <th>0</th>\n",
       "      <td>Sergio Agüero\\n Forward — Manchester City</td>\n",
       "      <td>$19.2m</td>\n",
       "      <td>16.0</td>\n",
       "      <td>14</td>\n",
       "      <td>3.0</td>\n",
       "      <td>34</td>\n",
       "      <td>13.12</td>\n",
       "      <td>209.98</td>\n",
       "    </tr>\n",
       "    <tr>\n",
       "      <th>1</th>\n",
       "      <td>Eden Hazard\\n Midfield — Chelsea</td>\n",
       "      <td>$18.9m</td>\n",
       "      <td>21.0</td>\n",
       "      <td>8</td>\n",
       "      <td>4.0</td>\n",
       "      <td>17</td>\n",
       "      <td>13.05</td>\n",
       "      <td>274.04</td>\n",
       "    </tr>\n",
       "    <tr>\n",
       "      <th>2</th>\n",
       "      <td>Alexis Sánchez\\n Forward — Arsenal</td>\n",
       "      <td>$17.6m</td>\n",
       "      <td>NaN</td>\n",
       "      <td>12</td>\n",
       "      <td>7.0</td>\n",
       "      <td>29</td>\n",
       "      <td>11.19</td>\n",
       "      <td>223.86</td>\n",
       "    </tr>\n",
       "    <tr>\n",
       "      <th>3</th>\n",
       "      <td>Yaya Touré\\n Midfield — Manchester City</td>\n",
       "      <td>$16.6m</td>\n",
       "      <td>18.0</td>\n",
       "      <td>7</td>\n",
       "      <td>1.0</td>\n",
       "      <td>19</td>\n",
       "      <td>10.99</td>\n",
       "      <td>197.91</td>\n",
       "    </tr>\n",
       "    <tr>\n",
       "      <th>4</th>\n",
       "      <td>Ángel Di María\\n Midfield — Manchester United</td>\n",
       "      <td>$15.0m</td>\n",
       "      <td>13.0</td>\n",
       "      <td>3</td>\n",
       "      <td>NaN</td>\n",
       "      <td>13</td>\n",
       "      <td>10.17</td>\n",
       "      <td>132.23</td>\n",
       "    </tr>\n",
       "  </tbody>\n",
       "</table>\n",
       "</div>"
      ],
      "text/plain": [
       "                                          player  salary  games  goals  \\\n",
       "0      Sergio Agüero\\n Forward — Manchester City  $19.2m   16.0     14   \n",
       "1               Eden Hazard\\n Midfield — Chelsea  $18.9m   21.0      8   \n",
       "2             Alexis Sánchez\\n Forward — Arsenal  $17.6m    NaN     12   \n",
       "3        Yaya Touré\\n Midfield — Manchester City  $16.6m   18.0      7   \n",
       "4  Ángel Di María\\n Midfield — Manchester United  $15.0m   13.0      3   \n",
       "\n",
       "   assists  shot_on_target  point_per_game  points  \n",
       "0      3.0              34           13.12  209.98  \n",
       "1      4.0              17           13.05  274.04  \n",
       "2      7.0              29           11.19  223.86  \n",
       "3      1.0              19           10.99  197.91  \n",
       "4      NaN              13           10.17  132.23  "
      ]
     },
     "execution_count": 9,
     "metadata": {},
     "output_type": "execute_result"
    }
   ],
   "source": [
    "df = df.rename(columns={\n",
    "    'p': 'points',\n",
    "    'gp': 'games',\n",
    "    'sot': 'shot_on_target',\n",
    "    'g': 'goals',\n",
    "    'ppg': 'point_per_game',\n",
    "    'a': 'assists',\n",
    "}); df.head(5)"
   ]
  },
  {
   "cell_type": "markdown",
   "metadata": {},
   "source": [
    "# Applying Computations Rows-wise"
   ]
  },
  {
   "cell_type": "markdown",
   "metadata": {},
   "source": [
    "### Changing Values in a Column"
   ]
  },
  {
   "cell_type": "code",
   "execution_count": 10,
   "metadata": {
    "collapsed": false
   },
   "outputs": [
    {
     "data": {
      "text/html": [
       "<div>\n",
       "<table border=\"1\" class=\"dataframe\">\n",
       "  <thead>\n",
       "    <tr style=\"text-align: right;\">\n",
       "      <th></th>\n",
       "      <th>player</th>\n",
       "      <th>salary</th>\n",
       "      <th>games</th>\n",
       "      <th>goals</th>\n",
       "      <th>assists</th>\n",
       "      <th>shot_on_target</th>\n",
       "      <th>point_per_game</th>\n",
       "      <th>points</th>\n",
       "    </tr>\n",
       "  </thead>\n",
       "  <tbody>\n",
       "    <tr>\n",
       "      <th>0</th>\n",
       "      <td>Sergio Agüero\\n Forward — Manchester City</td>\n",
       "      <td>19.2</td>\n",
       "      <td>16.0</td>\n",
       "      <td>14</td>\n",
       "      <td>3.0</td>\n",
       "      <td>34</td>\n",
       "      <td>13.12</td>\n",
       "      <td>209.98</td>\n",
       "    </tr>\n",
       "    <tr>\n",
       "      <th>1</th>\n",
       "      <td>Eden Hazard\\n Midfield — Chelsea</td>\n",
       "      <td>18.9</td>\n",
       "      <td>21.0</td>\n",
       "      <td>8</td>\n",
       "      <td>4.0</td>\n",
       "      <td>17</td>\n",
       "      <td>13.05</td>\n",
       "      <td>274.04</td>\n",
       "    </tr>\n",
       "    <tr>\n",
       "      <th>2</th>\n",
       "      <td>Alexis Sánchez\\n Forward — Arsenal</td>\n",
       "      <td>17.6</td>\n",
       "      <td>NaN</td>\n",
       "      <td>12</td>\n",
       "      <td>7.0</td>\n",
       "      <td>29</td>\n",
       "      <td>11.19</td>\n",
       "      <td>223.86</td>\n",
       "    </tr>\n",
       "    <tr>\n",
       "      <th>3</th>\n",
       "      <td>Yaya Touré\\n Midfield — Manchester City</td>\n",
       "      <td>16.6</td>\n",
       "      <td>18.0</td>\n",
       "      <td>7</td>\n",
       "      <td>1.0</td>\n",
       "      <td>19</td>\n",
       "      <td>10.99</td>\n",
       "      <td>197.91</td>\n",
       "    </tr>\n",
       "    <tr>\n",
       "      <th>4</th>\n",
       "      <td>Ángel Di María\\n Midfield — Manchester United</td>\n",
       "      <td>15.0</td>\n",
       "      <td>13.0</td>\n",
       "      <td>3</td>\n",
       "      <td>NaN</td>\n",
       "      <td>13</td>\n",
       "      <td>10.17</td>\n",
       "      <td>132.23</td>\n",
       "    </tr>\n",
       "  </tbody>\n",
       "</table>\n",
       "</div>"
      ],
      "text/plain": [
       "                                          player salary  games  goals  \\\n",
       "0      Sergio Agüero\\n Forward — Manchester City   19.2   16.0     14   \n",
       "1               Eden Hazard\\n Midfield — Chelsea   18.9   21.0      8   \n",
       "2             Alexis Sánchez\\n Forward — Arsenal   17.6    NaN     12   \n",
       "3        Yaya Touré\\n Midfield — Manchester City   16.6   18.0      7   \n",
       "4  Ángel Di María\\n Midfield — Manchester United   15.0   13.0      3   \n",
       "\n",
       "   assists  shot_on_target  point_per_game  points  \n",
       "0      3.0              34           13.12  209.98  \n",
       "1      4.0              17           13.05  274.04  \n",
       "2      7.0              29           11.19  223.86  \n",
       "3      1.0              19           10.99  197.91  \n",
       "4      NaN              13           10.17  132.23  "
      ]
     },
     "execution_count": 10,
     "metadata": {},
     "output_type": "execute_result"
    }
   ],
   "source": [
    "df['salary'] = df['salary'].apply(lambda x: x.strip('$m'))\n",
    "df.head(5)"
   ]
  },
  {
   "cell_type": "markdown",
   "metadata": {},
   "source": [
    "### Adding a New Column"
   ]
  },
  {
   "cell_type": "code",
   "execution_count": 11,
   "metadata": {
    "collapsed": false
   },
   "outputs": [
    {
     "data": {
      "text/plain": [
       "RangeIndex(start=0, stop=10, step=1)"
      ]
     },
     "execution_count": 11,
     "metadata": {},
     "output_type": "execute_result"
    }
   ],
   "source": [
    "df.index"
   ]
  },
  {
   "cell_type": "code",
   "execution_count": 13,
   "metadata": {
    "collapsed": false
   },
   "outputs": [
    {
     "data": {
      "text/plain": [
       "(0    \n",
       " 1    \n",
       " 2    \n",
       " 3    \n",
       " 4    \n",
       " 5    \n",
       " 6    \n",
       " 7    \n",
       " 8    \n",
       " 9    \n",
       " dtype: object, pandas.core.series.Series)"
      ]
     },
     "execution_count": 13,
     "metadata": {},
     "output_type": "execute_result"
    }
   ],
   "source": [
    "a = pd.Series('', index=df.index); a, type(a)"
   ]
  },
  {
   "cell_type": "code",
   "execution_count": 15,
   "metadata": {
    "collapsed": false
   },
   "outputs": [
    {
     "data": {
      "text/html": [
       "<div>\n",
       "<table border=\"1\" class=\"dataframe\">\n",
       "  <thead>\n",
       "    <tr style=\"text-align: right;\">\n",
       "      <th></th>\n",
       "      <th>player</th>\n",
       "      <th>salary</th>\n",
       "      <th>games</th>\n",
       "      <th>goals</th>\n",
       "      <th>assists</th>\n",
       "      <th>shot_on_target</th>\n",
       "      <th>point_per_game</th>\n",
       "      <th>points</th>\n",
       "      <th>position</th>\n",
       "      <th>team</th>\n",
       "    </tr>\n",
       "  </thead>\n",
       "  <tbody>\n",
       "    <tr>\n",
       "      <th>0</th>\n",
       "      <td>Sergio Agüero\\n Forward — Manchester City</td>\n",
       "      <td>19.2</td>\n",
       "      <td>16.0</td>\n",
       "      <td>14</td>\n",
       "      <td>3.0</td>\n",
       "      <td>34</td>\n",
       "      <td>13.12</td>\n",
       "      <td>209.98</td>\n",
       "      <td></td>\n",
       "      <td></td>\n",
       "    </tr>\n",
       "    <tr>\n",
       "      <th>1</th>\n",
       "      <td>Eden Hazard\\n Midfield — Chelsea</td>\n",
       "      <td>18.9</td>\n",
       "      <td>21.0</td>\n",
       "      <td>8</td>\n",
       "      <td>4.0</td>\n",
       "      <td>17</td>\n",
       "      <td>13.05</td>\n",
       "      <td>274.04</td>\n",
       "      <td></td>\n",
       "      <td></td>\n",
       "    </tr>\n",
       "    <tr>\n",
       "      <th>2</th>\n",
       "      <td>Alexis Sánchez\\n Forward — Arsenal</td>\n",
       "      <td>17.6</td>\n",
       "      <td>NaN</td>\n",
       "      <td>12</td>\n",
       "      <td>7.0</td>\n",
       "      <td>29</td>\n",
       "      <td>11.19</td>\n",
       "      <td>223.86</td>\n",
       "      <td></td>\n",
       "      <td></td>\n",
       "    </tr>\n",
       "    <tr>\n",
       "      <th>3</th>\n",
       "      <td>Yaya Touré\\n Midfield — Manchester City</td>\n",
       "      <td>16.6</td>\n",
       "      <td>18.0</td>\n",
       "      <td>7</td>\n",
       "      <td>1.0</td>\n",
       "      <td>19</td>\n",
       "      <td>10.99</td>\n",
       "      <td>197.91</td>\n",
       "      <td></td>\n",
       "      <td></td>\n",
       "    </tr>\n",
       "    <tr>\n",
       "      <th>4</th>\n",
       "      <td>Ángel Di María\\n Midfield — Manchester United</td>\n",
       "      <td>15.0</td>\n",
       "      <td>13.0</td>\n",
       "      <td>3</td>\n",
       "      <td>NaN</td>\n",
       "      <td>13</td>\n",
       "      <td>10.17</td>\n",
       "      <td>132.23</td>\n",
       "      <td></td>\n",
       "      <td></td>\n",
       "    </tr>\n",
       "  </tbody>\n",
       "</table>\n",
       "</div>"
      ],
      "text/plain": [
       "                                          player salary  games  goals  \\\n",
       "0      Sergio Agüero\\n Forward — Manchester City   19.2   16.0     14   \n",
       "1               Eden Hazard\\n Midfield — Chelsea   18.9   21.0      8   \n",
       "2             Alexis Sánchez\\n Forward — Arsenal   17.6    NaN     12   \n",
       "3        Yaya Touré\\n Midfield — Manchester City   16.6   18.0      7   \n",
       "4  Ángel Di María\\n Midfield — Manchester United   15.0   13.0      3   \n",
       "\n",
       "   assists  shot_on_target  point_per_game  points position team  \n",
       "0      3.0              34           13.12  209.98                \n",
       "1      4.0              17           13.05  274.04                \n",
       "2      7.0              29           11.19  223.86                \n",
       "3      1.0              19           10.99  197.91                \n",
       "4      NaN              13           10.17  132.23                "
      ]
     },
     "execution_count": 15,
     "metadata": {},
     "output_type": "execute_result"
    }
   ],
   "source": [
    "df['team'] = pd.Series('', index=df.index)\n",
    "# or\n",
    "df.insert(loc=8, column='position', value='')\n",
    "df.head(5)"
   ]
  },
  {
   "cell_type": "code",
   "execution_count": 16,
   "metadata": {
    "collapsed": false
   },
   "outputs": [
    {
     "data": {
      "text/html": [
       "<div>\n",
       "<table border=\"1\" class=\"dataframe\">\n",
       "  <thead>\n",
       "    <tr style=\"text-align: right;\">\n",
       "      <th></th>\n",
       "      <th>player</th>\n",
       "      <th>team</th>\n",
       "      <th>position</th>\n",
       "    </tr>\n",
       "  </thead>\n",
       "  <tbody>\n",
       "    <tr>\n",
       "      <th>0</th>\n",
       "      <td>Sergio Agüero\\n Forward — Manchester City</td>\n",
       "      <td></td>\n",
       "      <td></td>\n",
       "    </tr>\n",
       "    <tr>\n",
       "      <th>1</th>\n",
       "      <td>Eden Hazard\\n Midfield — Chelsea</td>\n",
       "      <td></td>\n",
       "      <td></td>\n",
       "    </tr>\n",
       "    <tr>\n",
       "      <th>2</th>\n",
       "      <td>Alexis Sánchez\\n Forward — Arsenal</td>\n",
       "      <td></td>\n",
       "      <td></td>\n",
       "    </tr>\n",
       "    <tr>\n",
       "      <th>3</th>\n",
       "      <td>Yaya Touré\\n Midfield — Manchester City</td>\n",
       "      <td></td>\n",
       "      <td></td>\n",
       "    </tr>\n",
       "    <tr>\n",
       "      <th>4</th>\n",
       "      <td>Ángel Di María\\n Midfield — Manchester United</td>\n",
       "      <td></td>\n",
       "      <td></td>\n",
       "    </tr>\n",
       "    <tr>\n",
       "      <th>5</th>\n",
       "      <td>Santiago Cazorla\\n Midfield — Arsenal</td>\n",
       "      <td></td>\n",
       "      <td></td>\n",
       "    </tr>\n",
       "    <tr>\n",
       "      <th>6</th>\n",
       "      <td>David Silva\\n Midfield — Manchester City</td>\n",
       "      <td></td>\n",
       "      <td></td>\n",
       "    </tr>\n",
       "    <tr>\n",
       "      <th>7</th>\n",
       "      <td>Cesc Fàbregas\\n Midfield — Chelsea</td>\n",
       "      <td></td>\n",
       "      <td></td>\n",
       "    </tr>\n",
       "    <tr>\n",
       "      <th>8</th>\n",
       "      <td>Saido Berahino\\n Forward — West Brom</td>\n",
       "      <td></td>\n",
       "      <td></td>\n",
       "    </tr>\n",
       "    <tr>\n",
       "      <th>9</th>\n",
       "      <td>Steven Gerrard\\n Midfield — Liverpool</td>\n",
       "      <td></td>\n",
       "      <td></td>\n",
       "    </tr>\n",
       "  </tbody>\n",
       "</table>\n",
       "</div>"
      ],
      "text/plain": [
       "                                          player team position\n",
       "0      Sergio Agüero\\n Forward — Manchester City              \n",
       "1               Eden Hazard\\n Midfield — Chelsea              \n",
       "2             Alexis Sánchez\\n Forward — Arsenal              \n",
       "3        Yaya Touré\\n Midfield — Manchester City              \n",
       "4  Ángel Di María\\n Midfield — Manchester United              \n",
       "5          Santiago Cazorla\\n Midfield — Arsenal              \n",
       "6       David Silva\\n Midfield — Manchester City              \n",
       "7             Cesc Fàbregas\\n Midfield — Chelsea              \n",
       "8           Saido Berahino\\n Forward — West Brom              \n",
       "9          Steven Gerrard\\n Midfield — Liverpool              "
      ]
     },
     "execution_count": 16,
     "metadata": {},
     "output_type": "execute_result"
    }
   ],
   "source": [
    "def process_player_col(text):\n",
    "    name, rest = text.split('\\n')\n",
    "    position, team = [x.strip() for x in rest.split(' — ')]\n",
    "    return pd.Series([name, team, position])\n",
    "\n",
    "df[['player', 'team', 'position']]"
   ]
  },
  {
   "cell_type": "code",
   "execution_count": 17,
   "metadata": {
    "collapsed": false
   },
   "outputs": [
    {
     "data": {
      "text/html": [
       "<div>\n",
       "<table border=\"1\" class=\"dataframe\">\n",
       "  <thead>\n",
       "    <tr style=\"text-align: right;\">\n",
       "      <th></th>\n",
       "      <th>player</th>\n",
       "      <th>salary</th>\n",
       "      <th>games</th>\n",
       "      <th>goals</th>\n",
       "      <th>assists</th>\n",
       "      <th>shot_on_target</th>\n",
       "      <th>point_per_game</th>\n",
       "      <th>points</th>\n",
       "      <th>position</th>\n",
       "      <th>team</th>\n",
       "    </tr>\n",
       "  </thead>\n",
       "  <tbody>\n",
       "    <tr>\n",
       "      <th>0</th>\n",
       "      <td>Sergio Agüero</td>\n",
       "      <td>19.2</td>\n",
       "      <td>16.0</td>\n",
       "      <td>14</td>\n",
       "      <td>3.0</td>\n",
       "      <td>34</td>\n",
       "      <td>13.12</td>\n",
       "      <td>209.98</td>\n",
       "      <td>Forward</td>\n",
       "      <td>Manchester City</td>\n",
       "    </tr>\n",
       "    <tr>\n",
       "      <th>1</th>\n",
       "      <td>Eden Hazard</td>\n",
       "      <td>18.9</td>\n",
       "      <td>21.0</td>\n",
       "      <td>8</td>\n",
       "      <td>4.0</td>\n",
       "      <td>17</td>\n",
       "      <td>13.05</td>\n",
       "      <td>274.04</td>\n",
       "      <td>Midfield</td>\n",
       "      <td>Chelsea</td>\n",
       "    </tr>\n",
       "    <tr>\n",
       "      <th>2</th>\n",
       "      <td>Alexis Sánchez</td>\n",
       "      <td>17.6</td>\n",
       "      <td>NaN</td>\n",
       "      <td>12</td>\n",
       "      <td>7.0</td>\n",
       "      <td>29</td>\n",
       "      <td>11.19</td>\n",
       "      <td>223.86</td>\n",
       "      <td>Forward</td>\n",
       "      <td>Arsenal</td>\n",
       "    </tr>\n",
       "    <tr>\n",
       "      <th>3</th>\n",
       "      <td>Yaya Touré</td>\n",
       "      <td>16.6</td>\n",
       "      <td>18.0</td>\n",
       "      <td>7</td>\n",
       "      <td>1.0</td>\n",
       "      <td>19</td>\n",
       "      <td>10.99</td>\n",
       "      <td>197.91</td>\n",
       "      <td>Midfield</td>\n",
       "      <td>Manchester City</td>\n",
       "    </tr>\n",
       "    <tr>\n",
       "      <th>4</th>\n",
       "      <td>Ángel Di María</td>\n",
       "      <td>15.0</td>\n",
       "      <td>13.0</td>\n",
       "      <td>3</td>\n",
       "      <td>NaN</td>\n",
       "      <td>13</td>\n",
       "      <td>10.17</td>\n",
       "      <td>132.23</td>\n",
       "      <td>Midfield</td>\n",
       "      <td>Manchester United</td>\n",
       "    </tr>\n",
       "  </tbody>\n",
       "</table>\n",
       "</div>"
      ],
      "text/plain": [
       "           player salary  games  goals  assists  shot_on_target  \\\n",
       "0   Sergio Agüero   19.2   16.0     14      3.0              34   \n",
       "1     Eden Hazard   18.9   21.0      8      4.0              17   \n",
       "2  Alexis Sánchez   17.6    NaN     12      7.0              29   \n",
       "3      Yaya Touré   16.6   18.0      7      1.0              19   \n",
       "4  Ángel Di María   15.0   13.0      3      NaN              13   \n",
       "\n",
       "   point_per_game  points  position               team  \n",
       "0           13.12  209.98   Forward    Manchester City  \n",
       "1           13.05  274.04  Midfield            Chelsea  \n",
       "2           11.19  223.86   Forward            Arsenal  \n",
       "3           10.99  197.91  Midfield    Manchester City  \n",
       "4           10.17  132.23  Midfield  Manchester United  "
      ]
     },
     "execution_count": 17,
     "metadata": {},
     "output_type": "execute_result"
    }
   ],
   "source": [
    "df[['player', 'team', 'position']] = df.player.apply(process_player_col); df.head(5)"
   ]
  },
  {
   "cell_type": "markdown",
   "metadata": {},
   "source": [
    "### Applying Functions to Multiple Columns"
   ]
  },
  {
   "cell_type": "code",
   "execution_count": 18,
   "metadata": {
    "collapsed": false
   },
   "outputs": [
    {
     "data": {
      "text/html": [
       "<div>\n",
       "<table border=\"1\" class=\"dataframe\">\n",
       "  <thead>\n",
       "    <tr style=\"text-align: right;\">\n",
       "      <th></th>\n",
       "      <th>player</th>\n",
       "      <th>salary</th>\n",
       "      <th>games</th>\n",
       "      <th>goals</th>\n",
       "      <th>assists</th>\n",
       "      <th>shot_on_target</th>\n",
       "      <th>point_per_game</th>\n",
       "      <th>points</th>\n",
       "      <th>position</th>\n",
       "      <th>team</th>\n",
       "    </tr>\n",
       "  </thead>\n",
       "  <tbody>\n",
       "    <tr>\n",
       "      <th>0</th>\n",
       "      <td>sergio agüero</td>\n",
       "      <td>19.2</td>\n",
       "      <td>16.0</td>\n",
       "      <td>14</td>\n",
       "      <td>3.0</td>\n",
       "      <td>34</td>\n",
       "      <td>13.12</td>\n",
       "      <td>209.98</td>\n",
       "      <td>forward</td>\n",
       "      <td>manchester city</td>\n",
       "    </tr>\n",
       "    <tr>\n",
       "      <th>1</th>\n",
       "      <td>eden hazard</td>\n",
       "      <td>18.9</td>\n",
       "      <td>21.0</td>\n",
       "      <td>8</td>\n",
       "      <td>4.0</td>\n",
       "      <td>17</td>\n",
       "      <td>13.05</td>\n",
       "      <td>274.04</td>\n",
       "      <td>midfield</td>\n",
       "      <td>chelsea</td>\n",
       "    </tr>\n",
       "    <tr>\n",
       "      <th>2</th>\n",
       "      <td>alexis sánchez</td>\n",
       "      <td>17.6</td>\n",
       "      <td>NaN</td>\n",
       "      <td>12</td>\n",
       "      <td>7.0</td>\n",
       "      <td>29</td>\n",
       "      <td>11.19</td>\n",
       "      <td>223.86</td>\n",
       "      <td>forward</td>\n",
       "      <td>arsenal</td>\n",
       "    </tr>\n",
       "    <tr>\n",
       "      <th>3</th>\n",
       "      <td>yaya touré</td>\n",
       "      <td>16.6</td>\n",
       "      <td>18.0</td>\n",
       "      <td>7</td>\n",
       "      <td>1.0</td>\n",
       "      <td>19</td>\n",
       "      <td>10.99</td>\n",
       "      <td>197.91</td>\n",
       "      <td>midfield</td>\n",
       "      <td>manchester city</td>\n",
       "    </tr>\n",
       "    <tr>\n",
       "      <th>4</th>\n",
       "      <td>ángel di maría</td>\n",
       "      <td>15.0</td>\n",
       "      <td>13.0</td>\n",
       "      <td>3</td>\n",
       "      <td>NaN</td>\n",
       "      <td>13</td>\n",
       "      <td>10.17</td>\n",
       "      <td>132.23</td>\n",
       "      <td>midfield</td>\n",
       "      <td>manchester united</td>\n",
       "    </tr>\n",
       "  </tbody>\n",
       "</table>\n",
       "</div>"
      ],
      "text/plain": [
       "           player salary  games  goals  assists  shot_on_target  \\\n",
       "0   sergio agüero   19.2   16.0     14      3.0              34   \n",
       "1     eden hazard   18.9   21.0      8      4.0              17   \n",
       "2  alexis sánchez   17.6    NaN     12      7.0              29   \n",
       "3      yaya touré   16.6   18.0      7      1.0              19   \n",
       "4  ángel di maría   15.0   13.0      3      NaN              13   \n",
       "\n",
       "   point_per_game  points  position               team  \n",
       "0           13.12  209.98   forward    manchester city  \n",
       "1           13.05  274.04  midfield            chelsea  \n",
       "2           11.19  223.86   forward            arsenal  \n",
       "3           10.99  197.91  midfield    manchester city  \n",
       "4           10.17  132.23  midfield  manchester united  "
      ]
     },
     "execution_count": 18,
     "metadata": {},
     "output_type": "execute_result"
    }
   ],
   "source": [
    "cols = ['player', 'position', 'team']\n",
    "df[cols] = df[cols].applymap(lambda x: x.lower()); df.head(5)"
   ]
  },
  {
   "cell_type": "markdown",
   "metadata": {},
   "source": [
    "# Missing Values aka NaNs"
   ]
  },
  {
   "cell_type": "markdown",
   "metadata": {},
   "source": [
    "### Counting Rows with NaNs"
   ]
  },
  {
   "cell_type": "code",
   "execution_count": 20,
   "metadata": {
    "collapsed": false
   },
   "outputs": [
    {
     "data": {
      "text/plain": [
       "(10, 10)"
      ]
     },
     "execution_count": 20,
     "metadata": {},
     "output_type": "execute_result"
    }
   ],
   "source": [
    "df.shape"
   ]
  },
  {
   "cell_type": "code",
   "execution_count": 23,
   "metadata": {
    "collapsed": false
   },
   "outputs": [
    {
     "data": {
      "text/plain": [
       "10"
      ]
     },
     "execution_count": 23,
     "metadata": {},
     "output_type": "execute_result"
    }
   ],
   "source": [
    "df.shape[0]"
   ]
  },
  {
   "cell_type": "code",
   "execution_count": 24,
   "metadata": {
    "collapsed": false
   },
   "outputs": [
    {
     "data": {
      "text/html": [
       "<div>\n",
       "<table border=\"1\" class=\"dataframe\">\n",
       "  <thead>\n",
       "    <tr style=\"text-align: right;\">\n",
       "      <th></th>\n",
       "      <th>player</th>\n",
       "      <th>salary</th>\n",
       "      <th>games</th>\n",
       "      <th>goals</th>\n",
       "      <th>assists</th>\n",
       "      <th>shot_on_target</th>\n",
       "      <th>point_per_game</th>\n",
       "      <th>points</th>\n",
       "      <th>position</th>\n",
       "      <th>team</th>\n",
       "    </tr>\n",
       "  </thead>\n",
       "  <tbody>\n",
       "    <tr>\n",
       "      <th>0</th>\n",
       "      <td>sergio agüero</td>\n",
       "      <td>19.2</td>\n",
       "      <td>16.0</td>\n",
       "      <td>14</td>\n",
       "      <td>3.0</td>\n",
       "      <td>34</td>\n",
       "      <td>13.12</td>\n",
       "      <td>209.98</td>\n",
       "      <td>forward</td>\n",
       "      <td>manchester city</td>\n",
       "    </tr>\n",
       "    <tr>\n",
       "      <th>1</th>\n",
       "      <td>eden hazard</td>\n",
       "      <td>18.9</td>\n",
       "      <td>21.0</td>\n",
       "      <td>8</td>\n",
       "      <td>4.0</td>\n",
       "      <td>17</td>\n",
       "      <td>13.05</td>\n",
       "      <td>274.04</td>\n",
       "      <td>midfield</td>\n",
       "      <td>chelsea</td>\n",
       "    </tr>\n",
       "    <tr>\n",
       "      <th>2</th>\n",
       "      <td>alexis sánchez</td>\n",
       "      <td>17.6</td>\n",
       "      <td>NaN</td>\n",
       "      <td>12</td>\n",
       "      <td>7.0</td>\n",
       "      <td>29</td>\n",
       "      <td>11.19</td>\n",
       "      <td>223.86</td>\n",
       "      <td>forward</td>\n",
       "      <td>arsenal</td>\n",
       "    </tr>\n",
       "    <tr>\n",
       "      <th>3</th>\n",
       "      <td>yaya touré</td>\n",
       "      <td>16.6</td>\n",
       "      <td>18.0</td>\n",
       "      <td>7</td>\n",
       "      <td>1.0</td>\n",
       "      <td>19</td>\n",
       "      <td>10.99</td>\n",
       "      <td>197.91</td>\n",
       "      <td>midfield</td>\n",
       "      <td>manchester city</td>\n",
       "    </tr>\n",
       "    <tr>\n",
       "      <th>4</th>\n",
       "      <td>ángel di maría</td>\n",
       "      <td>15.0</td>\n",
       "      <td>13.0</td>\n",
       "      <td>3</td>\n",
       "      <td>NaN</td>\n",
       "      <td>13</td>\n",
       "      <td>10.17</td>\n",
       "      <td>132.23</td>\n",
       "      <td>midfield</td>\n",
       "      <td>manchester united</td>\n",
       "    </tr>\n",
       "    <tr>\n",
       "      <th>5</th>\n",
       "      <td>santiago cazorla</td>\n",
       "      <td>14.8</td>\n",
       "      <td>20.0</td>\n",
       "      <td>4</td>\n",
       "      <td>NaN</td>\n",
       "      <td>20</td>\n",
       "      <td>9.97</td>\n",
       "      <td>NaN</td>\n",
       "      <td>midfield</td>\n",
       "      <td>arsenal</td>\n",
       "    </tr>\n",
       "    <tr>\n",
       "      <th>6</th>\n",
       "      <td>david silva</td>\n",
       "      <td>14.3</td>\n",
       "      <td>15.0</td>\n",
       "      <td>6</td>\n",
       "      <td>2.0</td>\n",
       "      <td>11</td>\n",
       "      <td>10.35</td>\n",
       "      <td>155.26</td>\n",
       "      <td>midfield</td>\n",
       "      <td>manchester city</td>\n",
       "    </tr>\n",
       "    <tr>\n",
       "      <th>7</th>\n",
       "      <td>cesc fàbregas</td>\n",
       "      <td>14.0</td>\n",
       "      <td>20.0</td>\n",
       "      <td>2</td>\n",
       "      <td>14.0</td>\n",
       "      <td>10</td>\n",
       "      <td>10.47</td>\n",
       "      <td>209.49</td>\n",
       "      <td>midfield</td>\n",
       "      <td>chelsea</td>\n",
       "    </tr>\n",
       "    <tr>\n",
       "      <th>8</th>\n",
       "      <td>saido berahino</td>\n",
       "      <td>13.8</td>\n",
       "      <td>21.0</td>\n",
       "      <td>9</td>\n",
       "      <td>0.0</td>\n",
       "      <td>20</td>\n",
       "      <td>7.02</td>\n",
       "      <td>147.43</td>\n",
       "      <td>forward</td>\n",
       "      <td>west brom</td>\n",
       "    </tr>\n",
       "    <tr>\n",
       "      <th>9</th>\n",
       "      <td>steven gerrard</td>\n",
       "      <td>13.8</td>\n",
       "      <td>20.0</td>\n",
       "      <td>5</td>\n",
       "      <td>1.0</td>\n",
       "      <td>11</td>\n",
       "      <td>7.50</td>\n",
       "      <td>150.01</td>\n",
       "      <td>midfield</td>\n",
       "      <td>liverpool</td>\n",
       "    </tr>\n",
       "  </tbody>\n",
       "</table>\n",
       "</div>"
      ],
      "text/plain": [
       "             player salary  games  goals  assists  shot_on_target  \\\n",
       "0     sergio agüero   19.2   16.0     14      3.0              34   \n",
       "1       eden hazard   18.9   21.0      8      4.0              17   \n",
       "2    alexis sánchez   17.6    NaN     12      7.0              29   \n",
       "3        yaya touré   16.6   18.0      7      1.0              19   \n",
       "4    ángel di maría   15.0   13.0      3      NaN              13   \n",
       "5  santiago cazorla   14.8   20.0      4      NaN              20   \n",
       "6       david silva   14.3   15.0      6      2.0              11   \n",
       "7     cesc fàbregas   14.0   20.0      2     14.0              10   \n",
       "8    saido berahino   13.8   21.0      9      0.0              20   \n",
       "9    steven gerrard   13.8   20.0      5      1.0              11   \n",
       "\n",
       "   point_per_game  points  position               team  \n",
       "0           13.12  209.98   forward    manchester city  \n",
       "1           13.05  274.04  midfield            chelsea  \n",
       "2           11.19  223.86   forward            arsenal  \n",
       "3           10.99  197.91  midfield    manchester city  \n",
       "4           10.17  132.23  midfield  manchester united  \n",
       "5            9.97     NaN  midfield            arsenal  \n",
       "6           10.35  155.26  midfield    manchester city  \n",
       "7           10.47  209.49  midfield            chelsea  \n",
       "8            7.02  147.43   forward          west brom  \n",
       "9            7.50  150.01  midfield          liverpool  "
      ]
     },
     "execution_count": 24,
     "metadata": {},
     "output_type": "execute_result"
    }
   ],
   "source": [
    "df"
   ]
  },
  {
   "cell_type": "code",
   "execution_count": 22,
   "metadata": {
    "collapsed": false
   },
   "outputs": [
    {
     "data": {
      "text/html": [
       "<div>\n",
       "<table border=\"1\" class=\"dataframe\">\n",
       "  <thead>\n",
       "    <tr style=\"text-align: right;\">\n",
       "      <th></th>\n",
       "      <th>player</th>\n",
       "      <th>salary</th>\n",
       "      <th>games</th>\n",
       "      <th>goals</th>\n",
       "      <th>assists</th>\n",
       "      <th>shot_on_target</th>\n",
       "      <th>point_per_game</th>\n",
       "      <th>points</th>\n",
       "      <th>position</th>\n",
       "      <th>team</th>\n",
       "    </tr>\n",
       "  </thead>\n",
       "  <tbody>\n",
       "    <tr>\n",
       "      <th>0</th>\n",
       "      <td>sergio agüero</td>\n",
       "      <td>19.2</td>\n",
       "      <td>16.0</td>\n",
       "      <td>14</td>\n",
       "      <td>3.0</td>\n",
       "      <td>34</td>\n",
       "      <td>13.12</td>\n",
       "      <td>209.98</td>\n",
       "      <td>forward</td>\n",
       "      <td>manchester city</td>\n",
       "    </tr>\n",
       "    <tr>\n",
       "      <th>1</th>\n",
       "      <td>eden hazard</td>\n",
       "      <td>18.9</td>\n",
       "      <td>21.0</td>\n",
       "      <td>8</td>\n",
       "      <td>4.0</td>\n",
       "      <td>17</td>\n",
       "      <td>13.05</td>\n",
       "      <td>274.04</td>\n",
       "      <td>midfield</td>\n",
       "      <td>chelsea</td>\n",
       "    </tr>\n",
       "    <tr>\n",
       "      <th>3</th>\n",
       "      <td>yaya touré</td>\n",
       "      <td>16.6</td>\n",
       "      <td>18.0</td>\n",
       "      <td>7</td>\n",
       "      <td>1.0</td>\n",
       "      <td>19</td>\n",
       "      <td>10.99</td>\n",
       "      <td>197.91</td>\n",
       "      <td>midfield</td>\n",
       "      <td>manchester city</td>\n",
       "    </tr>\n",
       "    <tr>\n",
       "      <th>6</th>\n",
       "      <td>david silva</td>\n",
       "      <td>14.3</td>\n",
       "      <td>15.0</td>\n",
       "      <td>6</td>\n",
       "      <td>2.0</td>\n",
       "      <td>11</td>\n",
       "      <td>10.35</td>\n",
       "      <td>155.26</td>\n",
       "      <td>midfield</td>\n",
       "      <td>manchester city</td>\n",
       "    </tr>\n",
       "    <tr>\n",
       "      <th>7</th>\n",
       "      <td>cesc fàbregas</td>\n",
       "      <td>14.0</td>\n",
       "      <td>20.0</td>\n",
       "      <td>2</td>\n",
       "      <td>14.0</td>\n",
       "      <td>10</td>\n",
       "      <td>10.47</td>\n",
       "      <td>209.49</td>\n",
       "      <td>midfield</td>\n",
       "      <td>chelsea</td>\n",
       "    </tr>\n",
       "    <tr>\n",
       "      <th>8</th>\n",
       "      <td>saido berahino</td>\n",
       "      <td>13.8</td>\n",
       "      <td>21.0</td>\n",
       "      <td>9</td>\n",
       "      <td>0.0</td>\n",
       "      <td>20</td>\n",
       "      <td>7.02</td>\n",
       "      <td>147.43</td>\n",
       "      <td>forward</td>\n",
       "      <td>west brom</td>\n",
       "    </tr>\n",
       "    <tr>\n",
       "      <th>9</th>\n",
       "      <td>steven gerrard</td>\n",
       "      <td>13.8</td>\n",
       "      <td>20.0</td>\n",
       "      <td>5</td>\n",
       "      <td>1.0</td>\n",
       "      <td>11</td>\n",
       "      <td>7.50</td>\n",
       "      <td>150.01</td>\n",
       "      <td>midfield</td>\n",
       "      <td>liverpool</td>\n",
       "    </tr>\n",
       "  </tbody>\n",
       "</table>\n",
       "</div>"
      ],
      "text/plain": [
       "           player salary  games  goals  assists  shot_on_target  \\\n",
       "0   sergio agüero   19.2   16.0     14      3.0              34   \n",
       "1     eden hazard   18.9   21.0      8      4.0              17   \n",
       "3      yaya touré   16.6   18.0      7      1.0              19   \n",
       "6     david silva   14.3   15.0      6      2.0              11   \n",
       "7   cesc fàbregas   14.0   20.0      2     14.0              10   \n",
       "8  saido berahino   13.8   21.0      9      0.0              20   \n",
       "9  steven gerrard   13.8   20.0      5      1.0              11   \n",
       "\n",
       "   point_per_game  points  position             team  \n",
       "0           13.12  209.98   forward  manchester city  \n",
       "1           13.05  274.04  midfield          chelsea  \n",
       "3           10.99  197.91  midfield  manchester city  \n",
       "6           10.35  155.26  midfield  manchester city  \n",
       "7           10.47  209.49  midfield          chelsea  \n",
       "8            7.02  147.43   forward        west brom  \n",
       "9            7.50  150.01  midfield        liverpool  "
      ]
     },
     "execution_count": 22,
     "metadata": {},
     "output_type": "execute_result"
    }
   ],
   "source": [
    "df.dropna()"
   ]
  },
  {
   "cell_type": "code",
   "execution_count": 26,
   "metadata": {
    "collapsed": false
   },
   "outputs": [
    {
     "data": {
      "text/plain": [
       "3"
      ]
     },
     "execution_count": 26,
     "metadata": {},
     "output_type": "execute_result"
    }
   ],
   "source": [
    "nans = df.shape[0] - df.dropna().shape[0]\n",
    "nans"
   ]
  },
  {
   "cell_type": "code",
   "execution_count": 27,
   "metadata": {
    "collapsed": false
   },
   "outputs": [
    {
     "name": "stdout",
     "output_type": "stream",
     "text": [
      "3 rows have missing values\n"
     ]
    }
   ],
   "source": [
    "print('{} rows have missing values'.format(nans))"
   ]
  },
  {
   "cell_type": "markdown",
   "metadata": {},
   "source": [
    "### Selecting NaN Rows"
   ]
  },
  {
   "cell_type": "code",
   "execution_count": 31,
   "metadata": {
    "collapsed": false
   },
   "outputs": [
    {
     "data": {
      "text/plain": [
       "0     3.0\n",
       "1     4.0\n",
       "2     7.0\n",
       "3     1.0\n",
       "4     NaN\n",
       "5     NaN\n",
       "6     2.0\n",
       "7    14.0\n",
       "8     0.0\n",
       "9     1.0\n",
       "Name: assists, dtype: float64"
      ]
     },
     "execution_count": 31,
     "metadata": {},
     "output_type": "execute_result"
    }
   ],
   "source": [
    "df['assists']"
   ]
  },
  {
   "cell_type": "code",
   "execution_count": 33,
   "metadata": {
    "collapsed": false
   },
   "outputs": [
    {
     "data": {
      "text/plain": [
       "0    False\n",
       "1    False\n",
       "2    False\n",
       "3    False\n",
       "4     True\n",
       "5     True\n",
       "6    False\n",
       "7    False\n",
       "8    False\n",
       "9    False\n",
       "Name: assists, dtype: bool"
      ]
     },
     "execution_count": 33,
     "metadata": {},
     "output_type": "execute_result"
    }
   ],
   "source": [
    "df['assists'].isnull()"
   ]
  },
  {
   "cell_type": "code",
   "execution_count": 34,
   "metadata": {
    "collapsed": false
   },
   "outputs": [
    {
     "data": {
      "text/plain": [
       "pandas.core.series.Series"
      ]
     },
     "execution_count": 34,
     "metadata": {},
     "output_type": "execute_result"
    }
   ],
   "source": [
    "type(df['assists'].isnull())"
   ]
  },
  {
   "cell_type": "code",
   "execution_count": 30,
   "metadata": {
    "collapsed": false
   },
   "outputs": [
    {
     "data": {
      "text/html": [
       "<div>\n",
       "<table border=\"1\" class=\"dataframe\">\n",
       "  <thead>\n",
       "    <tr style=\"text-align: right;\">\n",
       "      <th></th>\n",
       "      <th>player</th>\n",
       "      <th>salary</th>\n",
       "      <th>games</th>\n",
       "      <th>goals</th>\n",
       "      <th>assists</th>\n",
       "      <th>shot_on_target</th>\n",
       "      <th>point_per_game</th>\n",
       "      <th>points</th>\n",
       "      <th>position</th>\n",
       "      <th>team</th>\n",
       "    </tr>\n",
       "  </thead>\n",
       "  <tbody>\n",
       "    <tr>\n",
       "      <th>4</th>\n",
       "      <td>ángel di maría</td>\n",
       "      <td>15.0</td>\n",
       "      <td>13.0</td>\n",
       "      <td>3</td>\n",
       "      <td>NaN</td>\n",
       "      <td>13</td>\n",
       "      <td>10.17</td>\n",
       "      <td>132.23</td>\n",
       "      <td>midfield</td>\n",
       "      <td>manchester united</td>\n",
       "    </tr>\n",
       "    <tr>\n",
       "      <th>5</th>\n",
       "      <td>santiago cazorla</td>\n",
       "      <td>14.8</td>\n",
       "      <td>20.0</td>\n",
       "      <td>4</td>\n",
       "      <td>NaN</td>\n",
       "      <td>20</td>\n",
       "      <td>9.97</td>\n",
       "      <td>NaN</td>\n",
       "      <td>midfield</td>\n",
       "      <td>arsenal</td>\n",
       "    </tr>\n",
       "  </tbody>\n",
       "</table>\n",
       "</div>"
      ],
      "text/plain": [
       "             player salary  games  goals  assists  shot_on_target  \\\n",
       "4    ángel di maría   15.0   13.0      3      NaN              13   \n",
       "5  santiago cazorla   14.8   20.0      4      NaN              20   \n",
       "\n",
       "   point_per_game  points  position               team  \n",
       "4           10.17  132.23  midfield  manchester united  \n",
       "5            9.97     NaN  midfield            arsenal  "
      ]
     },
     "execution_count": 30,
     "metadata": {},
     "output_type": "execute_result"
    }
   ],
   "source": [
    "df[df['assists'].isnull()]"
   ]
  },
  {
   "cell_type": "markdown",
   "metadata": {},
   "source": [
    "### Selecting non-NaN Rows"
   ]
  },
  {
   "cell_type": "code",
   "execution_count": 35,
   "metadata": {
    "collapsed": false
   },
   "outputs": [
    {
     "data": {
      "text/html": [
       "<div>\n",
       "<table border=\"1\" class=\"dataframe\">\n",
       "  <thead>\n",
       "    <tr style=\"text-align: right;\">\n",
       "      <th></th>\n",
       "      <th>player</th>\n",
       "      <th>salary</th>\n",
       "      <th>games</th>\n",
       "      <th>goals</th>\n",
       "      <th>assists</th>\n",
       "      <th>shot_on_target</th>\n",
       "      <th>point_per_game</th>\n",
       "      <th>points</th>\n",
       "      <th>position</th>\n",
       "      <th>team</th>\n",
       "    </tr>\n",
       "  </thead>\n",
       "  <tbody>\n",
       "    <tr>\n",
       "      <th>0</th>\n",
       "      <td>sergio agüero</td>\n",
       "      <td>19.2</td>\n",
       "      <td>16.0</td>\n",
       "      <td>14</td>\n",
       "      <td>3.0</td>\n",
       "      <td>34</td>\n",
       "      <td>13.12</td>\n",
       "      <td>209.98</td>\n",
       "      <td>forward</td>\n",
       "      <td>manchester city</td>\n",
       "    </tr>\n",
       "    <tr>\n",
       "      <th>1</th>\n",
       "      <td>eden hazard</td>\n",
       "      <td>18.9</td>\n",
       "      <td>21.0</td>\n",
       "      <td>8</td>\n",
       "      <td>4.0</td>\n",
       "      <td>17</td>\n",
       "      <td>13.05</td>\n",
       "      <td>274.04</td>\n",
       "      <td>midfield</td>\n",
       "      <td>chelsea</td>\n",
       "    </tr>\n",
       "    <tr>\n",
       "      <th>2</th>\n",
       "      <td>alexis sánchez</td>\n",
       "      <td>17.6</td>\n",
       "      <td>NaN</td>\n",
       "      <td>12</td>\n",
       "      <td>7.0</td>\n",
       "      <td>29</td>\n",
       "      <td>11.19</td>\n",
       "      <td>223.86</td>\n",
       "      <td>forward</td>\n",
       "      <td>arsenal</td>\n",
       "    </tr>\n",
       "    <tr>\n",
       "      <th>3</th>\n",
       "      <td>yaya touré</td>\n",
       "      <td>16.6</td>\n",
       "      <td>18.0</td>\n",
       "      <td>7</td>\n",
       "      <td>1.0</td>\n",
       "      <td>19</td>\n",
       "      <td>10.99</td>\n",
       "      <td>197.91</td>\n",
       "      <td>midfield</td>\n",
       "      <td>manchester city</td>\n",
       "    </tr>\n",
       "    <tr>\n",
       "      <th>6</th>\n",
       "      <td>david silva</td>\n",
       "      <td>14.3</td>\n",
       "      <td>15.0</td>\n",
       "      <td>6</td>\n",
       "      <td>2.0</td>\n",
       "      <td>11</td>\n",
       "      <td>10.35</td>\n",
       "      <td>155.26</td>\n",
       "      <td>midfield</td>\n",
       "      <td>manchester city</td>\n",
       "    </tr>\n",
       "    <tr>\n",
       "      <th>7</th>\n",
       "      <td>cesc fàbregas</td>\n",
       "      <td>14.0</td>\n",
       "      <td>20.0</td>\n",
       "      <td>2</td>\n",
       "      <td>14.0</td>\n",
       "      <td>10</td>\n",
       "      <td>10.47</td>\n",
       "      <td>209.49</td>\n",
       "      <td>midfield</td>\n",
       "      <td>chelsea</td>\n",
       "    </tr>\n",
       "    <tr>\n",
       "      <th>8</th>\n",
       "      <td>saido berahino</td>\n",
       "      <td>13.8</td>\n",
       "      <td>21.0</td>\n",
       "      <td>9</td>\n",
       "      <td>0.0</td>\n",
       "      <td>20</td>\n",
       "      <td>7.02</td>\n",
       "      <td>147.43</td>\n",
       "      <td>forward</td>\n",
       "      <td>west brom</td>\n",
       "    </tr>\n",
       "    <tr>\n",
       "      <th>9</th>\n",
       "      <td>steven gerrard</td>\n",
       "      <td>13.8</td>\n",
       "      <td>20.0</td>\n",
       "      <td>5</td>\n",
       "      <td>1.0</td>\n",
       "      <td>11</td>\n",
       "      <td>7.50</td>\n",
       "      <td>150.01</td>\n",
       "      <td>midfield</td>\n",
       "      <td>liverpool</td>\n",
       "    </tr>\n",
       "  </tbody>\n",
       "</table>\n",
       "</div>"
      ],
      "text/plain": [
       "           player salary  games  goals  assists  shot_on_target  \\\n",
       "0   sergio agüero   19.2   16.0     14      3.0              34   \n",
       "1     eden hazard   18.9   21.0      8      4.0              17   \n",
       "2  alexis sánchez   17.6    NaN     12      7.0              29   \n",
       "3      yaya touré   16.6   18.0      7      1.0              19   \n",
       "6     david silva   14.3   15.0      6      2.0              11   \n",
       "7   cesc fàbregas   14.0   20.0      2     14.0              10   \n",
       "8  saido berahino   13.8   21.0      9      0.0              20   \n",
       "9  steven gerrard   13.8   20.0      5      1.0              11   \n",
       "\n",
       "   point_per_game  points  position             team  \n",
       "0           13.12  209.98   forward  manchester city  \n",
       "1           13.05  274.04  midfield          chelsea  \n",
       "2           11.19  223.86   forward          arsenal  \n",
       "3           10.99  197.91  midfield  manchester city  \n",
       "6           10.35  155.26  midfield  manchester city  \n",
       "7           10.47  209.49  midfield          chelsea  \n",
       "8            7.02  147.43   forward        west brom  \n",
       "9            7.50  150.01  midfield        liverpool  "
      ]
     },
     "execution_count": 35,
     "metadata": {},
     "output_type": "execute_result"
    }
   ],
   "source": [
    "df[df.assists.notnull()]"
   ]
  },
  {
   "cell_type": "markdown",
   "metadata": {},
   "source": [
    "### Filling NaN Rows"
   ]
  },
  {
   "cell_type": "code",
   "execution_count": 36,
   "metadata": {
    "collapsed": true
   },
   "outputs": [],
   "source": [
    "df.fillna?"
   ]
  },
  {
   "cell_type": "code",
   "execution_count": 37,
   "metadata": {
    "collapsed": false
   },
   "outputs": [
    {
     "data": {
      "text/html": [
       "<div>\n",
       "<table border=\"1\" class=\"dataframe\">\n",
       "  <thead>\n",
       "    <tr style=\"text-align: right;\">\n",
       "      <th></th>\n",
       "      <th>player</th>\n",
       "      <th>salary</th>\n",
       "      <th>games</th>\n",
       "      <th>goals</th>\n",
       "      <th>assists</th>\n",
       "      <th>shot_on_target</th>\n",
       "      <th>point_per_game</th>\n",
       "      <th>points</th>\n",
       "      <th>position</th>\n",
       "      <th>team</th>\n",
       "    </tr>\n",
       "  </thead>\n",
       "  <tbody>\n",
       "    <tr>\n",
       "      <th>0</th>\n",
       "      <td>sergio agüero</td>\n",
       "      <td>19.2</td>\n",
       "      <td>16.0</td>\n",
       "      <td>14</td>\n",
       "      <td>3.0</td>\n",
       "      <td>34</td>\n",
       "      <td>13.12</td>\n",
       "      <td>209.98</td>\n",
       "      <td>forward</td>\n",
       "      <td>manchester city</td>\n",
       "    </tr>\n",
       "    <tr>\n",
       "      <th>1</th>\n",
       "      <td>eden hazard</td>\n",
       "      <td>18.9</td>\n",
       "      <td>21.0</td>\n",
       "      <td>8</td>\n",
       "      <td>4.0</td>\n",
       "      <td>17</td>\n",
       "      <td>13.05</td>\n",
       "      <td>274.04</td>\n",
       "      <td>midfield</td>\n",
       "      <td>chelsea</td>\n",
       "    </tr>\n",
       "    <tr>\n",
       "      <th>2</th>\n",
       "      <td>alexis sánchez</td>\n",
       "      <td>17.6</td>\n",
       "      <td>0.0</td>\n",
       "      <td>12</td>\n",
       "      <td>7.0</td>\n",
       "      <td>29</td>\n",
       "      <td>11.19</td>\n",
       "      <td>223.86</td>\n",
       "      <td>forward</td>\n",
       "      <td>arsenal</td>\n",
       "    </tr>\n",
       "    <tr>\n",
       "      <th>3</th>\n",
       "      <td>yaya touré</td>\n",
       "      <td>16.6</td>\n",
       "      <td>18.0</td>\n",
       "      <td>7</td>\n",
       "      <td>1.0</td>\n",
       "      <td>19</td>\n",
       "      <td>10.99</td>\n",
       "      <td>197.91</td>\n",
       "      <td>midfield</td>\n",
       "      <td>manchester city</td>\n",
       "    </tr>\n",
       "    <tr>\n",
       "      <th>4</th>\n",
       "      <td>ángel di maría</td>\n",
       "      <td>15.0</td>\n",
       "      <td>13.0</td>\n",
       "      <td>3</td>\n",
       "      <td>0.0</td>\n",
       "      <td>13</td>\n",
       "      <td>10.17</td>\n",
       "      <td>132.23</td>\n",
       "      <td>midfield</td>\n",
       "      <td>manchester united</td>\n",
       "    </tr>\n",
       "    <tr>\n",
       "      <th>5</th>\n",
       "      <td>santiago cazorla</td>\n",
       "      <td>14.8</td>\n",
       "      <td>20.0</td>\n",
       "      <td>4</td>\n",
       "      <td>0.0</td>\n",
       "      <td>20</td>\n",
       "      <td>9.97</td>\n",
       "      <td>0.00</td>\n",
       "      <td>midfield</td>\n",
       "      <td>arsenal</td>\n",
       "    </tr>\n",
       "    <tr>\n",
       "      <th>6</th>\n",
       "      <td>david silva</td>\n",
       "      <td>14.3</td>\n",
       "      <td>15.0</td>\n",
       "      <td>6</td>\n",
       "      <td>2.0</td>\n",
       "      <td>11</td>\n",
       "      <td>10.35</td>\n",
       "      <td>155.26</td>\n",
       "      <td>midfield</td>\n",
       "      <td>manchester city</td>\n",
       "    </tr>\n",
       "    <tr>\n",
       "      <th>7</th>\n",
       "      <td>cesc fàbregas</td>\n",
       "      <td>14.0</td>\n",
       "      <td>20.0</td>\n",
       "      <td>2</td>\n",
       "      <td>14.0</td>\n",
       "      <td>10</td>\n",
       "      <td>10.47</td>\n",
       "      <td>209.49</td>\n",
       "      <td>midfield</td>\n",
       "      <td>chelsea</td>\n",
       "    </tr>\n",
       "    <tr>\n",
       "      <th>8</th>\n",
       "      <td>saido berahino</td>\n",
       "      <td>13.8</td>\n",
       "      <td>21.0</td>\n",
       "      <td>9</td>\n",
       "      <td>0.0</td>\n",
       "      <td>20</td>\n",
       "      <td>7.02</td>\n",
       "      <td>147.43</td>\n",
       "      <td>forward</td>\n",
       "      <td>west brom</td>\n",
       "    </tr>\n",
       "    <tr>\n",
       "      <th>9</th>\n",
       "      <td>steven gerrard</td>\n",
       "      <td>13.8</td>\n",
       "      <td>20.0</td>\n",
       "      <td>5</td>\n",
       "      <td>1.0</td>\n",
       "      <td>11</td>\n",
       "      <td>7.50</td>\n",
       "      <td>150.01</td>\n",
       "      <td>midfield</td>\n",
       "      <td>liverpool</td>\n",
       "    </tr>\n",
       "  </tbody>\n",
       "</table>\n",
       "</div>"
      ],
      "text/plain": [
       "             player salary  games  goals  assists  shot_on_target  \\\n",
       "0     sergio agüero   19.2   16.0     14      3.0              34   \n",
       "1       eden hazard   18.9   21.0      8      4.0              17   \n",
       "2    alexis sánchez   17.6    0.0     12      7.0              29   \n",
       "3        yaya touré   16.6   18.0      7      1.0              19   \n",
       "4    ángel di maría   15.0   13.0      3      0.0              13   \n",
       "5  santiago cazorla   14.8   20.0      4      0.0              20   \n",
       "6       david silva   14.3   15.0      6      2.0              11   \n",
       "7     cesc fàbregas   14.0   20.0      2     14.0              10   \n",
       "8    saido berahino   13.8   21.0      9      0.0              20   \n",
       "9    steven gerrard   13.8   20.0      5      1.0              11   \n",
       "\n",
       "   point_per_game  points  position               team  \n",
       "0           13.12  209.98   forward    manchester city  \n",
       "1           13.05  274.04  midfield            chelsea  \n",
       "2           11.19  223.86   forward            arsenal  \n",
       "3           10.99  197.91  midfield    manchester city  \n",
       "4           10.17  132.23  midfield  manchester united  \n",
       "5            9.97    0.00  midfield            arsenal  \n",
       "6           10.35  155.26  midfield    manchester city  \n",
       "7           10.47  209.49  midfield            chelsea  \n",
       "8            7.02  147.43   forward          west brom  \n",
       "9            7.50  150.01  midfield          liverpool  "
      ]
     },
     "execution_count": 37,
     "metadata": {},
     "output_type": "execute_result"
    }
   ],
   "source": [
    "# Fill NA/NaN values using the specified method\n",
    "df.fillna(value=0, inplace=True); df"
   ]
  },
  {
   "cell_type": "markdown",
   "metadata": {},
   "source": [
    "# Appending Rows to a DataFrame"
   ]
  },
  {
   "cell_type": "code",
   "execution_count": 39,
   "metadata": {
    "collapsed": true
   },
   "outputs": [],
   "source": [
    "import numpy as np"
   ]
  },
  {
   "cell_type": "code",
   "execution_count": 41,
   "metadata": {
    "collapsed": false
   },
   "outputs": [
    {
     "data": {
      "text/html": [
       "<div>\n",
       "<table border=\"1\" class=\"dataframe\">\n",
       "  <thead>\n",
       "    <tr style=\"text-align: right;\">\n",
       "      <th></th>\n",
       "      <th>player</th>\n",
       "      <th>salary</th>\n",
       "      <th>games</th>\n",
       "      <th>goals</th>\n",
       "      <th>assists</th>\n",
       "      <th>shot_on_target</th>\n",
       "      <th>point_per_game</th>\n",
       "      <th>points</th>\n",
       "      <th>position</th>\n",
       "      <th>team</th>\n",
       "    </tr>\n",
       "  </thead>\n",
       "  <tbody>\n",
       "    <tr>\n",
       "      <th>0</th>\n",
       "      <td>sergio agüero</td>\n",
       "      <td>19.2</td>\n",
       "      <td>16.0</td>\n",
       "      <td>14</td>\n",
       "      <td>3.0</td>\n",
       "      <td>34</td>\n",
       "      <td>13.12</td>\n",
       "      <td>209.98</td>\n",
       "      <td>forward</td>\n",
       "      <td>manchester city</td>\n",
       "    </tr>\n",
       "    <tr>\n",
       "      <th>1</th>\n",
       "      <td>eden hazard</td>\n",
       "      <td>18.9</td>\n",
       "      <td>21.0</td>\n",
       "      <td>8</td>\n",
       "      <td>4.0</td>\n",
       "      <td>17</td>\n",
       "      <td>13.05</td>\n",
       "      <td>274.04</td>\n",
       "      <td>midfield</td>\n",
       "      <td>chelsea</td>\n",
       "    </tr>\n",
       "    <tr>\n",
       "      <th>2</th>\n",
       "      <td>alexis sánchez</td>\n",
       "      <td>17.6</td>\n",
       "      <td>0.0</td>\n",
       "      <td>12</td>\n",
       "      <td>7.0</td>\n",
       "      <td>29</td>\n",
       "      <td>11.19</td>\n",
       "      <td>223.86</td>\n",
       "      <td>forward</td>\n",
       "      <td>arsenal</td>\n",
       "    </tr>\n",
       "    <tr>\n",
       "      <th>3</th>\n",
       "      <td>yaya touré</td>\n",
       "      <td>16.6</td>\n",
       "      <td>18.0</td>\n",
       "      <td>7</td>\n",
       "      <td>1.0</td>\n",
       "      <td>19</td>\n",
       "      <td>10.99</td>\n",
       "      <td>197.91</td>\n",
       "      <td>midfield</td>\n",
       "      <td>manchester city</td>\n",
       "    </tr>\n",
       "    <tr>\n",
       "      <th>4</th>\n",
       "      <td>ángel di maría</td>\n",
       "      <td>15.0</td>\n",
       "      <td>13.0</td>\n",
       "      <td>3</td>\n",
       "      <td>0.0</td>\n",
       "      <td>13</td>\n",
       "      <td>10.17</td>\n",
       "      <td>132.23</td>\n",
       "      <td>midfield</td>\n",
       "      <td>manchester united</td>\n",
       "    </tr>\n",
       "    <tr>\n",
       "      <th>5</th>\n",
       "      <td>santiago cazorla</td>\n",
       "      <td>14.8</td>\n",
       "      <td>20.0</td>\n",
       "      <td>4</td>\n",
       "      <td>0.0</td>\n",
       "      <td>20</td>\n",
       "      <td>9.97</td>\n",
       "      <td>0.00</td>\n",
       "      <td>midfield</td>\n",
       "      <td>arsenal</td>\n",
       "    </tr>\n",
       "    <tr>\n",
       "      <th>6</th>\n",
       "      <td>david silva</td>\n",
       "      <td>14.3</td>\n",
       "      <td>15.0</td>\n",
       "      <td>6</td>\n",
       "      <td>2.0</td>\n",
       "      <td>11</td>\n",
       "      <td>10.35</td>\n",
       "      <td>155.26</td>\n",
       "      <td>midfield</td>\n",
       "      <td>manchester city</td>\n",
       "    </tr>\n",
       "    <tr>\n",
       "      <th>7</th>\n",
       "      <td>cesc fàbregas</td>\n",
       "      <td>14.0</td>\n",
       "      <td>20.0</td>\n",
       "      <td>2</td>\n",
       "      <td>14.0</td>\n",
       "      <td>10</td>\n",
       "      <td>10.47</td>\n",
       "      <td>209.49</td>\n",
       "      <td>midfield</td>\n",
       "      <td>chelsea</td>\n",
       "    </tr>\n",
       "    <tr>\n",
       "      <th>8</th>\n",
       "      <td>saido berahino</td>\n",
       "      <td>13.8</td>\n",
       "      <td>21.0</td>\n",
       "      <td>9</td>\n",
       "      <td>0.0</td>\n",
       "      <td>20</td>\n",
       "      <td>7.02</td>\n",
       "      <td>147.43</td>\n",
       "      <td>forward</td>\n",
       "      <td>west brom</td>\n",
       "    </tr>\n",
       "    <tr>\n",
       "      <th>9</th>\n",
       "      <td>steven gerrard</td>\n",
       "      <td>13.8</td>\n",
       "      <td>20.0</td>\n",
       "      <td>5</td>\n",
       "      <td>1.0</td>\n",
       "      <td>11</td>\n",
       "      <td>7.50</td>\n",
       "      <td>150.01</td>\n",
       "      <td>midfield</td>\n",
       "      <td>liverpool</td>\n",
       "    </tr>\n",
       "  </tbody>\n",
       "</table>\n",
       "</div>"
      ],
      "text/plain": [
       "             player salary  games  goals  assists  shot_on_target  \\\n",
       "0     sergio agüero   19.2   16.0     14      3.0              34   \n",
       "1       eden hazard   18.9   21.0      8      4.0              17   \n",
       "2    alexis sánchez   17.6    0.0     12      7.0              29   \n",
       "3        yaya touré   16.6   18.0      7      1.0              19   \n",
       "4    ángel di maría   15.0   13.0      3      0.0              13   \n",
       "5  santiago cazorla   14.8   20.0      4      0.0              20   \n",
       "6       david silva   14.3   15.0      6      2.0              11   \n",
       "7     cesc fàbregas   14.0   20.0      2     14.0              10   \n",
       "8    saido berahino   13.8   21.0      9      0.0              20   \n",
       "9    steven gerrard   13.8   20.0      5      1.0              11   \n",
       "\n",
       "   point_per_game  points  position               team  \n",
       "0           13.12  209.98   forward    manchester city  \n",
       "1           13.05  274.04  midfield            chelsea  \n",
       "2           11.19  223.86   forward            arsenal  \n",
       "3           10.99  197.91  midfield    manchester city  \n",
       "4           10.17  132.23  midfield  manchester united  \n",
       "5            9.97    0.00  midfield            arsenal  \n",
       "6           10.35  155.26  midfield    manchester city  \n",
       "7           10.47  209.49  midfield            chelsea  \n",
       "8            7.02  147.43   forward          west brom  \n",
       "9            7.50  150.01  midfield          liverpool  "
      ]
     },
     "execution_count": 41,
     "metadata": {},
     "output_type": "execute_result"
    }
   ],
   "source": [
    "df"
   ]
  },
  {
   "cell_type": "code",
   "execution_count": 42,
   "metadata": {
    "collapsed": false
   },
   "outputs": [
    {
     "data": {
      "text/plain": [
       "Index(['player', 'salary', 'games', 'goals', 'assists', 'shot_on_target',\n",
       "       'point_per_game', 'points', 'position', 'team'],\n",
       "      dtype='object')"
      ]
     },
     "execution_count": 42,
     "metadata": {},
     "output_type": "execute_result"
    }
   ],
   "source": [
    "df.columns"
   ]
  },
  {
   "cell_type": "code",
   "execution_count": 43,
   "metadata": {
    "collapsed": true
   },
   "outputs": [],
   "source": [
    "df = df.append(\n",
    "    pd.Series(\n",
    "        [np.nan] * len(df.columns), # fill cells with NaNs\n",
    "        index=df.columns\n",
    "    ), \n",
    "    ignore_index=True\n",
    ")"
   ]
  },
  {
   "cell_type": "code",
   "execution_count": 47,
   "metadata": {
    "collapsed": false
   },
   "outputs": [
    {
     "data": {
      "text/html": [
       "<div>\n",
       "<table border=\"1\" class=\"dataframe\">\n",
       "  <thead>\n",
       "    <tr style=\"text-align: right;\">\n",
       "      <th></th>\n",
       "      <th>player</th>\n",
       "      <th>salary</th>\n",
       "      <th>games</th>\n",
       "      <th>goals</th>\n",
       "      <th>assists</th>\n",
       "      <th>shot_on_target</th>\n",
       "      <th>point_per_game</th>\n",
       "      <th>points</th>\n",
       "      <th>position</th>\n",
       "      <th>team</th>\n",
       "    </tr>\n",
       "  </thead>\n",
       "  <tbody>\n",
       "    <tr>\n",
       "      <th>0</th>\n",
       "      <td>sergio agüero</td>\n",
       "      <td>19.2</td>\n",
       "      <td>16.0</td>\n",
       "      <td>14.0</td>\n",
       "      <td>3.0</td>\n",
       "      <td>34.0</td>\n",
       "      <td>13.12</td>\n",
       "      <td>209.98</td>\n",
       "      <td>forward</td>\n",
       "      <td>manchester city</td>\n",
       "    </tr>\n",
       "    <tr>\n",
       "      <th>1</th>\n",
       "      <td>eden hazard</td>\n",
       "      <td>18.9</td>\n",
       "      <td>21.0</td>\n",
       "      <td>8.0</td>\n",
       "      <td>4.0</td>\n",
       "      <td>17.0</td>\n",
       "      <td>13.05</td>\n",
       "      <td>274.04</td>\n",
       "      <td>midfield</td>\n",
       "      <td>chelsea</td>\n",
       "    </tr>\n",
       "    <tr>\n",
       "      <th>2</th>\n",
       "      <td>alexis sánchez</td>\n",
       "      <td>17.6</td>\n",
       "      <td>0.0</td>\n",
       "      <td>12.0</td>\n",
       "      <td>7.0</td>\n",
       "      <td>29.0</td>\n",
       "      <td>11.19</td>\n",
       "      <td>223.86</td>\n",
       "      <td>forward</td>\n",
       "      <td>arsenal</td>\n",
       "    </tr>\n",
       "    <tr>\n",
       "      <th>3</th>\n",
       "      <td>yaya touré</td>\n",
       "      <td>16.6</td>\n",
       "      <td>18.0</td>\n",
       "      <td>7.0</td>\n",
       "      <td>1.0</td>\n",
       "      <td>19.0</td>\n",
       "      <td>10.99</td>\n",
       "      <td>197.91</td>\n",
       "      <td>midfield</td>\n",
       "      <td>manchester city</td>\n",
       "    </tr>\n",
       "    <tr>\n",
       "      <th>4</th>\n",
       "      <td>ángel di maría</td>\n",
       "      <td>15.0</td>\n",
       "      <td>13.0</td>\n",
       "      <td>3.0</td>\n",
       "      <td>0.0</td>\n",
       "      <td>13.0</td>\n",
       "      <td>10.17</td>\n",
       "      <td>132.23</td>\n",
       "      <td>midfield</td>\n",
       "      <td>manchester united</td>\n",
       "    </tr>\n",
       "    <tr>\n",
       "      <th>5</th>\n",
       "      <td>santiago cazorla</td>\n",
       "      <td>14.8</td>\n",
       "      <td>20.0</td>\n",
       "      <td>4.0</td>\n",
       "      <td>0.0</td>\n",
       "      <td>20.0</td>\n",
       "      <td>9.97</td>\n",
       "      <td>0.00</td>\n",
       "      <td>midfield</td>\n",
       "      <td>arsenal</td>\n",
       "    </tr>\n",
       "    <tr>\n",
       "      <th>6</th>\n",
       "      <td>david silva</td>\n",
       "      <td>14.3</td>\n",
       "      <td>15.0</td>\n",
       "      <td>6.0</td>\n",
       "      <td>2.0</td>\n",
       "      <td>11.0</td>\n",
       "      <td>10.35</td>\n",
       "      <td>155.26</td>\n",
       "      <td>midfield</td>\n",
       "      <td>manchester city</td>\n",
       "    </tr>\n",
       "    <tr>\n",
       "      <th>7</th>\n",
       "      <td>cesc fàbregas</td>\n",
       "      <td>14.0</td>\n",
       "      <td>20.0</td>\n",
       "      <td>2.0</td>\n",
       "      <td>14.0</td>\n",
       "      <td>10.0</td>\n",
       "      <td>10.47</td>\n",
       "      <td>209.49</td>\n",
       "      <td>midfield</td>\n",
       "      <td>chelsea</td>\n",
       "    </tr>\n",
       "    <tr>\n",
       "      <th>8</th>\n",
       "      <td>saido berahino</td>\n",
       "      <td>13.8</td>\n",
       "      <td>21.0</td>\n",
       "      <td>9.0</td>\n",
       "      <td>0.0</td>\n",
       "      <td>20.0</td>\n",
       "      <td>7.02</td>\n",
       "      <td>147.43</td>\n",
       "      <td>forward</td>\n",
       "      <td>west brom</td>\n",
       "    </tr>\n",
       "    <tr>\n",
       "      <th>9</th>\n",
       "      <td>steven gerrard</td>\n",
       "      <td>13.8</td>\n",
       "      <td>20.0</td>\n",
       "      <td>5.0</td>\n",
       "      <td>1.0</td>\n",
       "      <td>11.0</td>\n",
       "      <td>7.50</td>\n",
       "      <td>150.01</td>\n",
       "      <td>midfield</td>\n",
       "      <td>liverpool</td>\n",
       "    </tr>\n",
       "    <tr>\n",
       "      <th>10</th>\n",
       "      <td>NaN</td>\n",
       "      <td>NaN</td>\n",
       "      <td>NaN</td>\n",
       "      <td>NaN</td>\n",
       "      <td>NaN</td>\n",
       "      <td>NaN</td>\n",
       "      <td>NaN</td>\n",
       "      <td>NaN</td>\n",
       "      <td>NaN</td>\n",
       "      <td>NaN</td>\n",
       "    </tr>\n",
       "  </tbody>\n",
       "</table>\n",
       "</div>"
      ],
      "text/plain": [
       "              player salary  games  goals  assists  shot_on_target  \\\n",
       "0      sergio agüero   19.2   16.0   14.0      3.0            34.0   \n",
       "1        eden hazard   18.9   21.0    8.0      4.0            17.0   \n",
       "2     alexis sánchez   17.6    0.0   12.0      7.0            29.0   \n",
       "3         yaya touré   16.6   18.0    7.0      1.0            19.0   \n",
       "4     ángel di maría   15.0   13.0    3.0      0.0            13.0   \n",
       "5   santiago cazorla   14.8   20.0    4.0      0.0            20.0   \n",
       "6        david silva   14.3   15.0    6.0      2.0            11.0   \n",
       "7      cesc fàbregas   14.0   20.0    2.0     14.0            10.0   \n",
       "8     saido berahino   13.8   21.0    9.0      0.0            20.0   \n",
       "9     steven gerrard   13.8   20.0    5.0      1.0            11.0   \n",
       "10               NaN    NaN    NaN    NaN      NaN             NaN   \n",
       "\n",
       "    point_per_game  points  position               team  \n",
       "0            13.12  209.98   forward    manchester city  \n",
       "1            13.05  274.04  midfield            chelsea  \n",
       "2            11.19  223.86   forward            arsenal  \n",
       "3            10.99  197.91  midfield    manchester city  \n",
       "4            10.17  132.23  midfield  manchester united  \n",
       "5             9.97    0.00  midfield            arsenal  \n",
       "6            10.35  155.26  midfield    manchester city  \n",
       "7            10.47  209.49  midfield            chelsea  \n",
       "8             7.02  147.43   forward          west brom  \n",
       "9             7.50  150.01  midfield          liverpool  \n",
       "10             NaN     NaN       NaN                NaN  "
      ]
     },
     "execution_count": 47,
     "metadata": {},
     "output_type": "execute_result"
    }
   ],
   "source": [
    "df"
   ]
  },
  {
   "cell_type": "code",
   "execution_count": 49,
   "metadata": {
    "collapsed": true
   },
   "outputs": [],
   "source": [
    "df.append?"
   ]
  },
  {
   "cell_type": "code",
   "execution_count": 50,
   "metadata": {
    "collapsed": true
   },
   "outputs": [],
   "source": [
    "# ignore_index: If True, do not use the index labels."
   ]
  },
  {
   "cell_type": "code",
   "execution_count": 51,
   "metadata": {
    "collapsed": false
   },
   "outputs": [
    {
     "data": {
      "text/plain": [
       "10"
      ]
     },
     "execution_count": 51,
     "metadata": {},
     "output_type": "execute_result"
    }
   ],
   "source": [
    "# filling cells with data\n",
    "df.index[-1]"
   ]
  },
  {
   "cell_type": "code",
   "execution_count": 52,
   "metadata": {
    "collapsed": false
   },
   "outputs": [
    {
     "data": {
      "text/plain": [
       "player            NaN\n",
       "salary            NaN\n",
       "games             NaN\n",
       "goals             NaN\n",
       "assists           NaN\n",
       "shot_on_target    NaN\n",
       "point_per_game    NaN\n",
       "points            NaN\n",
       "position          NaN\n",
       "team              NaN\n",
       "Name: 10, dtype: object"
      ]
     },
     "execution_count": 52,
     "metadata": {},
     "output_type": "execute_result"
    }
   ],
   "source": [
    "df.loc[df.index[-1]]"
   ]
  },
  {
   "cell_type": "code",
   "execution_count": 55,
   "metadata": {
    "collapsed": false
   },
   "outputs": [
    {
     "data": {
      "text/html": [
       "<div>\n",
       "<table border=\"1\" class=\"dataframe\">\n",
       "  <thead>\n",
       "    <tr style=\"text-align: right;\">\n",
       "      <th></th>\n",
       "      <th>player</th>\n",
       "      <th>salary</th>\n",
       "      <th>games</th>\n",
       "      <th>goals</th>\n",
       "      <th>assists</th>\n",
       "      <th>shot_on_target</th>\n",
       "      <th>point_per_game</th>\n",
       "      <th>points</th>\n",
       "      <th>position</th>\n",
       "      <th>team</th>\n",
       "    </tr>\n",
       "  </thead>\n",
       "  <tbody>\n",
       "    <tr>\n",
       "      <th>0</th>\n",
       "      <td>sergio agüero</td>\n",
       "      <td>19.2</td>\n",
       "      <td>16.0</td>\n",
       "      <td>14.0</td>\n",
       "      <td>3.0</td>\n",
       "      <td>34.0</td>\n",
       "      <td>13.12</td>\n",
       "      <td>209.98</td>\n",
       "      <td>forward</td>\n",
       "      <td>manchester city</td>\n",
       "    </tr>\n",
       "    <tr>\n",
       "      <th>1</th>\n",
       "      <td>eden hazard</td>\n",
       "      <td>18.9</td>\n",
       "      <td>21.0</td>\n",
       "      <td>8.0</td>\n",
       "      <td>4.0</td>\n",
       "      <td>17.0</td>\n",
       "      <td>13.05</td>\n",
       "      <td>274.04</td>\n",
       "      <td>midfield</td>\n",
       "      <td>chelsea</td>\n",
       "    </tr>\n",
       "    <tr>\n",
       "      <th>2</th>\n",
       "      <td>alexis sánchez</td>\n",
       "      <td>17.6</td>\n",
       "      <td>0.0</td>\n",
       "      <td>12.0</td>\n",
       "      <td>7.0</td>\n",
       "      <td>29.0</td>\n",
       "      <td>11.19</td>\n",
       "      <td>223.86</td>\n",
       "      <td>forward</td>\n",
       "      <td>arsenal</td>\n",
       "    </tr>\n",
       "    <tr>\n",
       "      <th>3</th>\n",
       "      <td>yaya touré</td>\n",
       "      <td>16.6</td>\n",
       "      <td>18.0</td>\n",
       "      <td>7.0</td>\n",
       "      <td>1.0</td>\n",
       "      <td>19.0</td>\n",
       "      <td>10.99</td>\n",
       "      <td>197.91</td>\n",
       "      <td>midfield</td>\n",
       "      <td>manchester city</td>\n",
       "    </tr>\n",
       "    <tr>\n",
       "      <th>4</th>\n",
       "      <td>ángel di maría</td>\n",
       "      <td>15.0</td>\n",
       "      <td>13.0</td>\n",
       "      <td>3.0</td>\n",
       "      <td>0.0</td>\n",
       "      <td>13.0</td>\n",
       "      <td>10.17</td>\n",
       "      <td>132.23</td>\n",
       "      <td>midfield</td>\n",
       "      <td>manchester united</td>\n",
       "    </tr>\n",
       "    <tr>\n",
       "      <th>5</th>\n",
       "      <td>santiago cazorla</td>\n",
       "      <td>14.8</td>\n",
       "      <td>20.0</td>\n",
       "      <td>4.0</td>\n",
       "      <td>0.0</td>\n",
       "      <td>20.0</td>\n",
       "      <td>9.97</td>\n",
       "      <td>0.00</td>\n",
       "      <td>midfield</td>\n",
       "      <td>arsenal</td>\n",
       "    </tr>\n",
       "    <tr>\n",
       "      <th>6</th>\n",
       "      <td>david silva</td>\n",
       "      <td>14.3</td>\n",
       "      <td>15.0</td>\n",
       "      <td>6.0</td>\n",
       "      <td>2.0</td>\n",
       "      <td>11.0</td>\n",
       "      <td>10.35</td>\n",
       "      <td>155.26</td>\n",
       "      <td>midfield</td>\n",
       "      <td>manchester city</td>\n",
       "    </tr>\n",
       "    <tr>\n",
       "      <th>7</th>\n",
       "      <td>cesc fàbregas</td>\n",
       "      <td>14.0</td>\n",
       "      <td>20.0</td>\n",
       "      <td>2.0</td>\n",
       "      <td>14.0</td>\n",
       "      <td>10.0</td>\n",
       "      <td>10.47</td>\n",
       "      <td>209.49</td>\n",
       "      <td>midfield</td>\n",
       "      <td>chelsea</td>\n",
       "    </tr>\n",
       "    <tr>\n",
       "      <th>8</th>\n",
       "      <td>saido berahino</td>\n",
       "      <td>13.8</td>\n",
       "      <td>21.0</td>\n",
       "      <td>9.0</td>\n",
       "      <td>0.0</td>\n",
       "      <td>20.0</td>\n",
       "      <td>7.02</td>\n",
       "      <td>147.43</td>\n",
       "      <td>forward</td>\n",
       "      <td>west brom</td>\n",
       "    </tr>\n",
       "    <tr>\n",
       "      <th>9</th>\n",
       "      <td>steven gerrard</td>\n",
       "      <td>13.8</td>\n",
       "      <td>20.0</td>\n",
       "      <td>5.0</td>\n",
       "      <td>1.0</td>\n",
       "      <td>11.0</td>\n",
       "      <td>7.50</td>\n",
       "      <td>150.01</td>\n",
       "      <td>midfield</td>\n",
       "      <td>liverpool</td>\n",
       "    </tr>\n",
       "    <tr>\n",
       "      <th>10</th>\n",
       "      <td>new player</td>\n",
       "      <td>NaN</td>\n",
       "      <td>NaN</td>\n",
       "      <td>NaN</td>\n",
       "      <td>NaN</td>\n",
       "      <td>NaN</td>\n",
       "      <td>NaN</td>\n",
       "      <td>NaN</td>\n",
       "      <td>NaN</td>\n",
       "      <td>NaN</td>\n",
       "    </tr>\n",
       "  </tbody>\n",
       "</table>\n",
       "</div>"
      ],
      "text/plain": [
       "              player salary  games  goals  assists  shot_on_target  \\\n",
       "0      sergio agüero   19.2   16.0   14.0      3.0            34.0   \n",
       "1        eden hazard   18.9   21.0    8.0      4.0            17.0   \n",
       "2     alexis sánchez   17.6    0.0   12.0      7.0            29.0   \n",
       "3         yaya touré   16.6   18.0    7.0      1.0            19.0   \n",
       "4     ángel di maría   15.0   13.0    3.0      0.0            13.0   \n",
       "5   santiago cazorla   14.8   20.0    4.0      0.0            20.0   \n",
       "6        david silva   14.3   15.0    6.0      2.0            11.0   \n",
       "7      cesc fàbregas   14.0   20.0    2.0     14.0            10.0   \n",
       "8     saido berahino   13.8   21.0    9.0      0.0            20.0   \n",
       "9     steven gerrard   13.8   20.0    5.0      1.0            11.0   \n",
       "10        new player    NaN    NaN    NaN      NaN             NaN   \n",
       "\n",
       "    point_per_game  points  position               team  \n",
       "0            13.12  209.98   forward    manchester city  \n",
       "1            13.05  274.04  midfield            chelsea  \n",
       "2            11.19  223.86   forward            arsenal  \n",
       "3            10.99  197.91  midfield    manchester city  \n",
       "4            10.17  132.23  midfield  manchester united  \n",
       "5             9.97    0.00  midfield            arsenal  \n",
       "6            10.35  155.26  midfield    manchester city  \n",
       "7            10.47  209.49  midfield            chelsea  \n",
       "8             7.02  147.43   forward          west brom  \n",
       "9             7.50  150.01  midfield          liverpool  \n",
       "10             NaN     NaN       NaN                NaN  "
      ]
     },
     "execution_count": 55,
     "metadata": {},
     "output_type": "execute_result"
    }
   ],
   "source": [
    "df.loc[df.index[-1], 'player'] = 'new player'; df"
   ]
  },
  {
   "cell_type": "code",
   "execution_count": 56,
   "metadata": {
    "collapsed": false
   },
   "outputs": [
    {
     "data": {
      "text/html": [
       "<div>\n",
       "<table border=\"1\" class=\"dataframe\">\n",
       "  <thead>\n",
       "    <tr style=\"text-align: right;\">\n",
       "      <th></th>\n",
       "      <th>player</th>\n",
       "      <th>salary</th>\n",
       "      <th>games</th>\n",
       "      <th>goals</th>\n",
       "      <th>assists</th>\n",
       "      <th>shot_on_target</th>\n",
       "      <th>point_per_game</th>\n",
       "      <th>points</th>\n",
       "      <th>position</th>\n",
       "      <th>team</th>\n",
       "    </tr>\n",
       "  </thead>\n",
       "  <tbody>\n",
       "    <tr>\n",
       "      <th>0</th>\n",
       "      <td>sergio agüero</td>\n",
       "      <td>19.2</td>\n",
       "      <td>16.0</td>\n",
       "      <td>14.0</td>\n",
       "      <td>3.0</td>\n",
       "      <td>34.0</td>\n",
       "      <td>13.12</td>\n",
       "      <td>209.98</td>\n",
       "      <td>forward</td>\n",
       "      <td>manchester city</td>\n",
       "    </tr>\n",
       "    <tr>\n",
       "      <th>1</th>\n",
       "      <td>eden hazard</td>\n",
       "      <td>18.9</td>\n",
       "      <td>21.0</td>\n",
       "      <td>8.0</td>\n",
       "      <td>4.0</td>\n",
       "      <td>17.0</td>\n",
       "      <td>13.05</td>\n",
       "      <td>274.04</td>\n",
       "      <td>midfield</td>\n",
       "      <td>chelsea</td>\n",
       "    </tr>\n",
       "    <tr>\n",
       "      <th>2</th>\n",
       "      <td>alexis sánchez</td>\n",
       "      <td>17.6</td>\n",
       "      <td>0.0</td>\n",
       "      <td>12.0</td>\n",
       "      <td>7.0</td>\n",
       "      <td>29.0</td>\n",
       "      <td>11.19</td>\n",
       "      <td>223.86</td>\n",
       "      <td>forward</td>\n",
       "      <td>arsenal</td>\n",
       "    </tr>\n",
       "    <tr>\n",
       "      <th>3</th>\n",
       "      <td>yaya touré</td>\n",
       "      <td>16.6</td>\n",
       "      <td>18.0</td>\n",
       "      <td>7.0</td>\n",
       "      <td>1.0</td>\n",
       "      <td>19.0</td>\n",
       "      <td>10.99</td>\n",
       "      <td>197.91</td>\n",
       "      <td>midfield</td>\n",
       "      <td>manchester city</td>\n",
       "    </tr>\n",
       "    <tr>\n",
       "      <th>4</th>\n",
       "      <td>ángel di maría</td>\n",
       "      <td>15.0</td>\n",
       "      <td>13.0</td>\n",
       "      <td>3.0</td>\n",
       "      <td>0.0</td>\n",
       "      <td>13.0</td>\n",
       "      <td>10.17</td>\n",
       "      <td>132.23</td>\n",
       "      <td>midfield</td>\n",
       "      <td>manchester united</td>\n",
       "    </tr>\n",
       "    <tr>\n",
       "      <th>5</th>\n",
       "      <td>santiago cazorla</td>\n",
       "      <td>14.8</td>\n",
       "      <td>20.0</td>\n",
       "      <td>4.0</td>\n",
       "      <td>0.0</td>\n",
       "      <td>20.0</td>\n",
       "      <td>9.97</td>\n",
       "      <td>0.00</td>\n",
       "      <td>midfield</td>\n",
       "      <td>arsenal</td>\n",
       "    </tr>\n",
       "    <tr>\n",
       "      <th>6</th>\n",
       "      <td>david silva</td>\n",
       "      <td>14.3</td>\n",
       "      <td>15.0</td>\n",
       "      <td>6.0</td>\n",
       "      <td>2.0</td>\n",
       "      <td>11.0</td>\n",
       "      <td>10.35</td>\n",
       "      <td>155.26</td>\n",
       "      <td>midfield</td>\n",
       "      <td>manchester city</td>\n",
       "    </tr>\n",
       "    <tr>\n",
       "      <th>7</th>\n",
       "      <td>cesc fàbregas</td>\n",
       "      <td>14.0</td>\n",
       "      <td>20.0</td>\n",
       "      <td>2.0</td>\n",
       "      <td>14.0</td>\n",
       "      <td>10.0</td>\n",
       "      <td>10.47</td>\n",
       "      <td>209.49</td>\n",
       "      <td>midfield</td>\n",
       "      <td>chelsea</td>\n",
       "    </tr>\n",
       "    <tr>\n",
       "      <th>8</th>\n",
       "      <td>saido berahino</td>\n",
       "      <td>13.8</td>\n",
       "      <td>21.0</td>\n",
       "      <td>9.0</td>\n",
       "      <td>0.0</td>\n",
       "      <td>20.0</td>\n",
       "      <td>7.02</td>\n",
       "      <td>147.43</td>\n",
       "      <td>forward</td>\n",
       "      <td>west brom</td>\n",
       "    </tr>\n",
       "    <tr>\n",
       "      <th>9</th>\n",
       "      <td>steven gerrard</td>\n",
       "      <td>13.8</td>\n",
       "      <td>20.0</td>\n",
       "      <td>5.0</td>\n",
       "      <td>1.0</td>\n",
       "      <td>11.0</td>\n",
       "      <td>7.50</td>\n",
       "      <td>150.01</td>\n",
       "      <td>midfield</td>\n",
       "      <td>liverpool</td>\n",
       "    </tr>\n",
       "    <tr>\n",
       "      <th>10</th>\n",
       "      <td>new player</td>\n",
       "      <td>12.3</td>\n",
       "      <td>NaN</td>\n",
       "      <td>NaN</td>\n",
       "      <td>NaN</td>\n",
       "      <td>NaN</td>\n",
       "      <td>NaN</td>\n",
       "      <td>NaN</td>\n",
       "      <td>NaN</td>\n",
       "      <td>NaN</td>\n",
       "    </tr>\n",
       "  </tbody>\n",
       "</table>\n",
       "</div>"
      ],
      "text/plain": [
       "              player salary  games  goals  assists  shot_on_target  \\\n",
       "0      sergio agüero   19.2   16.0   14.0      3.0            34.0   \n",
       "1        eden hazard   18.9   21.0    8.0      4.0            17.0   \n",
       "2     alexis sánchez   17.6    0.0   12.0      7.0            29.0   \n",
       "3         yaya touré   16.6   18.0    7.0      1.0            19.0   \n",
       "4     ángel di maría   15.0   13.0    3.0      0.0            13.0   \n",
       "5   santiago cazorla   14.8   20.0    4.0      0.0            20.0   \n",
       "6        david silva   14.3   15.0    6.0      2.0            11.0   \n",
       "7      cesc fàbregas   14.0   20.0    2.0     14.0            10.0   \n",
       "8     saido berahino   13.8   21.0    9.0      0.0            20.0   \n",
       "9     steven gerrard   13.8   20.0    5.0      1.0            11.0   \n",
       "10        new player   12.3    NaN    NaN      NaN             NaN   \n",
       "\n",
       "    point_per_game  points  position               team  \n",
       "0            13.12  209.98   forward    manchester city  \n",
       "1            13.05  274.04  midfield            chelsea  \n",
       "2            11.19  223.86   forward            arsenal  \n",
       "3            10.99  197.91  midfield    manchester city  \n",
       "4            10.17  132.23  midfield  manchester united  \n",
       "5             9.97    0.00  midfield            arsenal  \n",
       "6            10.35  155.26  midfield    manchester city  \n",
       "7            10.47  209.49  midfield            chelsea  \n",
       "8             7.02  147.43   forward          west brom  \n",
       "9             7.50  150.01  midfield          liverpool  \n",
       "10             NaN     NaN       NaN                NaN  "
      ]
     },
     "execution_count": 56,
     "metadata": {},
     "output_type": "execute_result"
    }
   ],
   "source": [
    "df.loc[df.index[-1], 'salary'] = 12.3; df"
   ]
  },
  {
   "cell_type": "markdown",
   "metadata": {},
   "source": [
    "# Sorting and Reindexing DataFrames"
   ]
  },
  {
   "cell_type": "code",
   "execution_count": 57,
   "metadata": {
    "collapsed": false
   },
   "outputs": [
    {
     "name": "stderr",
     "output_type": "stream",
     "text": [
      "/home/phanhoang/workspace/learning/calculation/.env/lib/python3.4/site-packages/ipykernel/__main__.py:1: FutureWarning: sort(columns=....) is deprecated, use sort_values(by=.....)\n",
      "  if __name__ == '__main__':\n"
     ]
    },
    {
     "data": {
      "text/html": [
       "<div>\n",
       "<table border=\"1\" class=\"dataframe\">\n",
       "  <thead>\n",
       "    <tr style=\"text-align: right;\">\n",
       "      <th></th>\n",
       "      <th>player</th>\n",
       "      <th>salary</th>\n",
       "      <th>games</th>\n",
       "      <th>goals</th>\n",
       "      <th>assists</th>\n",
       "      <th>shot_on_target</th>\n",
       "      <th>point_per_game</th>\n",
       "      <th>points</th>\n",
       "      <th>position</th>\n",
       "      <th>team</th>\n",
       "    </tr>\n",
       "  </thead>\n",
       "  <tbody>\n",
       "    <tr>\n",
       "      <th>0</th>\n",
       "      <td>sergio agüero</td>\n",
       "      <td>19.2</td>\n",
       "      <td>16.0</td>\n",
       "      <td>14.0</td>\n",
       "      <td>3.0</td>\n",
       "      <td>34.0</td>\n",
       "      <td>13.12</td>\n",
       "      <td>209.98</td>\n",
       "      <td>forward</td>\n",
       "      <td>manchester city</td>\n",
       "    </tr>\n",
       "    <tr>\n",
       "      <th>2</th>\n",
       "      <td>alexis sánchez</td>\n",
       "      <td>17.6</td>\n",
       "      <td>0.0</td>\n",
       "      <td>12.0</td>\n",
       "      <td>7.0</td>\n",
       "      <td>29.0</td>\n",
       "      <td>11.19</td>\n",
       "      <td>223.86</td>\n",
       "      <td>forward</td>\n",
       "      <td>arsenal</td>\n",
       "    </tr>\n",
       "    <tr>\n",
       "      <th>8</th>\n",
       "      <td>saido berahino</td>\n",
       "      <td>13.8</td>\n",
       "      <td>21.0</td>\n",
       "      <td>9.0</td>\n",
       "      <td>0.0</td>\n",
       "      <td>20.0</td>\n",
       "      <td>7.02</td>\n",
       "      <td>147.43</td>\n",
       "      <td>forward</td>\n",
       "      <td>west brom</td>\n",
       "    </tr>\n",
       "    <tr>\n",
       "      <th>1</th>\n",
       "      <td>eden hazard</td>\n",
       "      <td>18.9</td>\n",
       "      <td>21.0</td>\n",
       "      <td>8.0</td>\n",
       "      <td>4.0</td>\n",
       "      <td>17.0</td>\n",
       "      <td>13.05</td>\n",
       "      <td>274.04</td>\n",
       "      <td>midfield</td>\n",
       "      <td>chelsea</td>\n",
       "    </tr>\n",
       "    <tr>\n",
       "      <th>3</th>\n",
       "      <td>yaya touré</td>\n",
       "      <td>16.6</td>\n",
       "      <td>18.0</td>\n",
       "      <td>7.0</td>\n",
       "      <td>1.0</td>\n",
       "      <td>19.0</td>\n",
       "      <td>10.99</td>\n",
       "      <td>197.91</td>\n",
       "      <td>midfield</td>\n",
       "      <td>manchester city</td>\n",
       "    </tr>\n",
       "    <tr>\n",
       "      <th>6</th>\n",
       "      <td>david silva</td>\n",
       "      <td>14.3</td>\n",
       "      <td>15.0</td>\n",
       "      <td>6.0</td>\n",
       "      <td>2.0</td>\n",
       "      <td>11.0</td>\n",
       "      <td>10.35</td>\n",
       "      <td>155.26</td>\n",
       "      <td>midfield</td>\n",
       "      <td>manchester city</td>\n",
       "    </tr>\n",
       "    <tr>\n",
       "      <th>9</th>\n",
       "      <td>steven gerrard</td>\n",
       "      <td>13.8</td>\n",
       "      <td>20.0</td>\n",
       "      <td>5.0</td>\n",
       "      <td>1.0</td>\n",
       "      <td>11.0</td>\n",
       "      <td>7.50</td>\n",
       "      <td>150.01</td>\n",
       "      <td>midfield</td>\n",
       "      <td>liverpool</td>\n",
       "    </tr>\n",
       "    <tr>\n",
       "      <th>5</th>\n",
       "      <td>santiago cazorla</td>\n",
       "      <td>14.8</td>\n",
       "      <td>20.0</td>\n",
       "      <td>4.0</td>\n",
       "      <td>0.0</td>\n",
       "      <td>20.0</td>\n",
       "      <td>9.97</td>\n",
       "      <td>0.00</td>\n",
       "      <td>midfield</td>\n",
       "      <td>arsenal</td>\n",
       "    </tr>\n",
       "    <tr>\n",
       "      <th>4</th>\n",
       "      <td>ángel di maría</td>\n",
       "      <td>15.0</td>\n",
       "      <td>13.0</td>\n",
       "      <td>3.0</td>\n",
       "      <td>0.0</td>\n",
       "      <td>13.0</td>\n",
       "      <td>10.17</td>\n",
       "      <td>132.23</td>\n",
       "      <td>midfield</td>\n",
       "      <td>manchester united</td>\n",
       "    </tr>\n",
       "    <tr>\n",
       "      <th>7</th>\n",
       "      <td>cesc fàbregas</td>\n",
       "      <td>14.0</td>\n",
       "      <td>20.0</td>\n",
       "      <td>2.0</td>\n",
       "      <td>14.0</td>\n",
       "      <td>10.0</td>\n",
       "      <td>10.47</td>\n",
       "      <td>209.49</td>\n",
       "      <td>midfield</td>\n",
       "      <td>chelsea</td>\n",
       "    </tr>\n",
       "    <tr>\n",
       "      <th>10</th>\n",
       "      <td>new player</td>\n",
       "      <td>12.3</td>\n",
       "      <td>NaN</td>\n",
       "      <td>NaN</td>\n",
       "      <td>NaN</td>\n",
       "      <td>NaN</td>\n",
       "      <td>NaN</td>\n",
       "      <td>NaN</td>\n",
       "      <td>NaN</td>\n",
       "      <td>NaN</td>\n",
       "    </tr>\n",
       "  </tbody>\n",
       "</table>\n",
       "</div>"
      ],
      "text/plain": [
       "              player salary  games  goals  assists  shot_on_target  \\\n",
       "0      sergio agüero   19.2   16.0   14.0      3.0            34.0   \n",
       "2     alexis sánchez   17.6    0.0   12.0      7.0            29.0   \n",
       "8     saido berahino   13.8   21.0    9.0      0.0            20.0   \n",
       "1        eden hazard   18.9   21.0    8.0      4.0            17.0   \n",
       "3         yaya touré   16.6   18.0    7.0      1.0            19.0   \n",
       "6        david silva   14.3   15.0    6.0      2.0            11.0   \n",
       "9     steven gerrard   13.8   20.0    5.0      1.0            11.0   \n",
       "5   santiago cazorla   14.8   20.0    4.0      0.0            20.0   \n",
       "4     ángel di maría   15.0   13.0    3.0      0.0            13.0   \n",
       "7      cesc fàbregas   14.0   20.0    2.0     14.0            10.0   \n",
       "10        new player   12.3    NaN    NaN      NaN             NaN   \n",
       "\n",
       "    point_per_game  points  position               team  \n",
       "0            13.12  209.98   forward    manchester city  \n",
       "2            11.19  223.86   forward            arsenal  \n",
       "8             7.02  147.43   forward          west brom  \n",
       "1            13.05  274.04  midfield            chelsea  \n",
       "3            10.99  197.91  midfield    manchester city  \n",
       "6            10.35  155.26  midfield    manchester city  \n",
       "9             7.50  150.01  midfield          liverpool  \n",
       "5             9.97    0.00  midfield            arsenal  \n",
       "4            10.17  132.23  midfield  manchester united  \n",
       "7            10.47  209.49  midfield            chelsea  \n",
       "10             NaN     NaN       NaN                NaN  "
      ]
     },
     "execution_count": 57,
     "metadata": {},
     "output_type": "execute_result"
    }
   ],
   "source": [
    "df.sort('goals', ascending=False, inplace=True); df"
   ]
  },
  {
   "cell_type": "code",
   "execution_count": 58,
   "metadata": {
    "collapsed": false
   },
   "outputs": [
    {
     "data": {
      "text/plain": [
       "Int64Index([0, 2, 8, 1, 3, 6, 9, 5, 4, 7, 10], dtype='int64')"
      ]
     },
     "execution_count": 58,
     "metadata": {},
     "output_type": "execute_result"
    }
   ],
   "source": [
    "df.index"
   ]
  },
  {
   "cell_type": "code",
   "execution_count": 59,
   "metadata": {
    "collapsed": false
   },
   "outputs": [
    {
     "data": {
      "text/html": [
       "<div>\n",
       "<table border=\"1\" class=\"dataframe\">\n",
       "  <thead>\n",
       "    <tr style=\"text-align: right;\">\n",
       "      <th></th>\n",
       "      <th>player</th>\n",
       "      <th>salary</th>\n",
       "      <th>games</th>\n",
       "      <th>goals</th>\n",
       "      <th>assists</th>\n",
       "      <th>shot_on_target</th>\n",
       "      <th>point_per_game</th>\n",
       "      <th>points</th>\n",
       "      <th>position</th>\n",
       "      <th>team</th>\n",
       "    </tr>\n",
       "  </thead>\n",
       "  <tbody>\n",
       "    <tr>\n",
       "      <th>1</th>\n",
       "      <td>sergio agüero</td>\n",
       "      <td>19.2</td>\n",
       "      <td>16.0</td>\n",
       "      <td>14.0</td>\n",
       "      <td>3.0</td>\n",
       "      <td>34.0</td>\n",
       "      <td>13.12</td>\n",
       "      <td>209.98</td>\n",
       "      <td>forward</td>\n",
       "      <td>manchester city</td>\n",
       "    </tr>\n",
       "    <tr>\n",
       "      <th>2</th>\n",
       "      <td>alexis sánchez</td>\n",
       "      <td>17.6</td>\n",
       "      <td>0.0</td>\n",
       "      <td>12.0</td>\n",
       "      <td>7.0</td>\n",
       "      <td>29.0</td>\n",
       "      <td>11.19</td>\n",
       "      <td>223.86</td>\n",
       "      <td>forward</td>\n",
       "      <td>arsenal</td>\n",
       "    </tr>\n",
       "    <tr>\n",
       "      <th>3</th>\n",
       "      <td>saido berahino</td>\n",
       "      <td>13.8</td>\n",
       "      <td>21.0</td>\n",
       "      <td>9.0</td>\n",
       "      <td>0.0</td>\n",
       "      <td>20.0</td>\n",
       "      <td>7.02</td>\n",
       "      <td>147.43</td>\n",
       "      <td>forward</td>\n",
       "      <td>west brom</td>\n",
       "    </tr>\n",
       "    <tr>\n",
       "      <th>4</th>\n",
       "      <td>eden hazard</td>\n",
       "      <td>18.9</td>\n",
       "      <td>21.0</td>\n",
       "      <td>8.0</td>\n",
       "      <td>4.0</td>\n",
       "      <td>17.0</td>\n",
       "      <td>13.05</td>\n",
       "      <td>274.04</td>\n",
       "      <td>midfield</td>\n",
       "      <td>chelsea</td>\n",
       "    </tr>\n",
       "    <tr>\n",
       "      <th>5</th>\n",
       "      <td>yaya touré</td>\n",
       "      <td>16.6</td>\n",
       "      <td>18.0</td>\n",
       "      <td>7.0</td>\n",
       "      <td>1.0</td>\n",
       "      <td>19.0</td>\n",
       "      <td>10.99</td>\n",
       "      <td>197.91</td>\n",
       "      <td>midfield</td>\n",
       "      <td>manchester city</td>\n",
       "    </tr>\n",
       "    <tr>\n",
       "      <th>6</th>\n",
       "      <td>david silva</td>\n",
       "      <td>14.3</td>\n",
       "      <td>15.0</td>\n",
       "      <td>6.0</td>\n",
       "      <td>2.0</td>\n",
       "      <td>11.0</td>\n",
       "      <td>10.35</td>\n",
       "      <td>155.26</td>\n",
       "      <td>midfield</td>\n",
       "      <td>manchester city</td>\n",
       "    </tr>\n",
       "    <tr>\n",
       "      <th>7</th>\n",
       "      <td>steven gerrard</td>\n",
       "      <td>13.8</td>\n",
       "      <td>20.0</td>\n",
       "      <td>5.0</td>\n",
       "      <td>1.0</td>\n",
       "      <td>11.0</td>\n",
       "      <td>7.50</td>\n",
       "      <td>150.01</td>\n",
       "      <td>midfield</td>\n",
       "      <td>liverpool</td>\n",
       "    </tr>\n",
       "    <tr>\n",
       "      <th>8</th>\n",
       "      <td>santiago cazorla</td>\n",
       "      <td>14.8</td>\n",
       "      <td>20.0</td>\n",
       "      <td>4.0</td>\n",
       "      <td>0.0</td>\n",
       "      <td>20.0</td>\n",
       "      <td>9.97</td>\n",
       "      <td>0.00</td>\n",
       "      <td>midfield</td>\n",
       "      <td>arsenal</td>\n",
       "    </tr>\n",
       "    <tr>\n",
       "      <th>9</th>\n",
       "      <td>ángel di maría</td>\n",
       "      <td>15.0</td>\n",
       "      <td>13.0</td>\n",
       "      <td>3.0</td>\n",
       "      <td>0.0</td>\n",
       "      <td>13.0</td>\n",
       "      <td>10.17</td>\n",
       "      <td>132.23</td>\n",
       "      <td>midfield</td>\n",
       "      <td>manchester united</td>\n",
       "    </tr>\n",
       "    <tr>\n",
       "      <th>10</th>\n",
       "      <td>cesc fàbregas</td>\n",
       "      <td>14.0</td>\n",
       "      <td>20.0</td>\n",
       "      <td>2.0</td>\n",
       "      <td>14.0</td>\n",
       "      <td>10.0</td>\n",
       "      <td>10.47</td>\n",
       "      <td>209.49</td>\n",
       "      <td>midfield</td>\n",
       "      <td>chelsea</td>\n",
       "    </tr>\n",
       "    <tr>\n",
       "      <th>11</th>\n",
       "      <td>new player</td>\n",
       "      <td>12.3</td>\n",
       "      <td>NaN</td>\n",
       "      <td>NaN</td>\n",
       "      <td>NaN</td>\n",
       "      <td>NaN</td>\n",
       "      <td>NaN</td>\n",
       "      <td>NaN</td>\n",
       "      <td>NaN</td>\n",
       "      <td>NaN</td>\n",
       "    </tr>\n",
       "  </tbody>\n",
       "</table>\n",
       "</div>"
      ],
      "text/plain": [
       "              player salary  games  goals  assists  shot_on_target  \\\n",
       "1      sergio agüero   19.2   16.0   14.0      3.0            34.0   \n",
       "2     alexis sánchez   17.6    0.0   12.0      7.0            29.0   \n",
       "3     saido berahino   13.8   21.0    9.0      0.0            20.0   \n",
       "4        eden hazard   18.9   21.0    8.0      4.0            17.0   \n",
       "5         yaya touré   16.6   18.0    7.0      1.0            19.0   \n",
       "6        david silva   14.3   15.0    6.0      2.0            11.0   \n",
       "7     steven gerrard   13.8   20.0    5.0      1.0            11.0   \n",
       "8   santiago cazorla   14.8   20.0    4.0      0.0            20.0   \n",
       "9     ángel di maría   15.0   13.0    3.0      0.0            13.0   \n",
       "10     cesc fàbregas   14.0   20.0    2.0     14.0            10.0   \n",
       "11        new player   12.3    NaN    NaN      NaN             NaN   \n",
       "\n",
       "    point_per_game  points  position               team  \n",
       "1            13.12  209.98   forward    manchester city  \n",
       "2            11.19  223.86   forward            arsenal  \n",
       "3             7.02  147.43   forward          west brom  \n",
       "4            13.05  274.04  midfield            chelsea  \n",
       "5            10.99  197.91  midfield    manchester city  \n",
       "6            10.35  155.26  midfield    manchester city  \n",
       "7             7.50  150.01  midfield          liverpool  \n",
       "8             9.97    0.00  midfield            arsenal  \n",
       "9            10.17  132.23  midfield  manchester united  \n",
       "10           10.47  209.49  midfield            chelsea  \n",
       "11             NaN     NaN       NaN                NaN  "
      ]
     },
     "execution_count": 59,
     "metadata": {},
     "output_type": "execute_result"
    }
   ],
   "source": [
    "df.index = range(1, len(df.index) + 1); df"
   ]
  },
  {
   "cell_type": "markdown",
   "metadata": {},
   "source": [
    "# Updating Columns"
   ]
  },
  {
   "cell_type": "code",
   "execution_count": 60,
   "metadata": {
    "collapsed": true
   },
   "outputs": [],
   "source": [
    "df_2 = df.copy?"
   ]
  },
  {
   "cell_type": "code",
   "execution_count": 61,
   "metadata": {
    "collapsed": false
   },
   "outputs": [
    {
     "data": {
      "text/plain": [
       "1    19.2\n",
       "2    17.6\n",
       "Name: salary, dtype: object"
      ]
     },
     "execution_count": 61,
     "metadata": {},
     "output_type": "execute_result"
    }
   ],
   "source": [
    "df_2 = df.copy()\n",
    "df_2.loc[0:2, 'salary']"
   ]
  },
  {
   "cell_type": "code",
   "execution_count": 64,
   "metadata": {
    "collapsed": false
   },
   "outputs": [
    {
     "data": {
      "text/html": [
       "<div>\n",
       "<table border=\"1\" class=\"dataframe\">\n",
       "  <thead>\n",
       "    <tr style=\"text-align: right;\">\n",
       "      <th></th>\n",
       "      <th>player</th>\n",
       "      <th>salary</th>\n",
       "      <th>games</th>\n",
       "      <th>goals</th>\n",
       "      <th>assists</th>\n",
       "      <th>shot_on_target</th>\n",
       "      <th>point_per_game</th>\n",
       "      <th>points</th>\n",
       "      <th>position</th>\n",
       "      <th>team</th>\n",
       "    </tr>\n",
       "  </thead>\n",
       "  <tbody>\n",
       "    <tr>\n",
       "      <th>1</th>\n",
       "      <td>sergio agüero</td>\n",
       "      <td>20</td>\n",
       "      <td>16.0</td>\n",
       "      <td>14.0</td>\n",
       "      <td>3.0</td>\n",
       "      <td>34.0</td>\n",
       "      <td>13.12</td>\n",
       "      <td>209.98</td>\n",
       "      <td>forward</td>\n",
       "      <td>manchester city</td>\n",
       "    </tr>\n",
       "    <tr>\n",
       "      <th>2</th>\n",
       "      <td>alexis sánchez</td>\n",
       "      <td>15</td>\n",
       "      <td>0.0</td>\n",
       "      <td>12.0</td>\n",
       "      <td>7.0</td>\n",
       "      <td>29.0</td>\n",
       "      <td>11.19</td>\n",
       "      <td>223.86</td>\n",
       "      <td>forward</td>\n",
       "      <td>arsenal</td>\n",
       "    </tr>\n",
       "    <tr>\n",
       "      <th>3</th>\n",
       "      <td>saido berahino</td>\n",
       "      <td>13.8</td>\n",
       "      <td>21.0</td>\n",
       "      <td>9.0</td>\n",
       "      <td>0.0</td>\n",
       "      <td>20.0</td>\n",
       "      <td>7.02</td>\n",
       "      <td>147.43</td>\n",
       "      <td>forward</td>\n",
       "      <td>west brom</td>\n",
       "    </tr>\n",
       "  </tbody>\n",
       "</table>\n",
       "</div>"
      ],
      "text/plain": [
       "           player salary  games  goals  assists  shot_on_target  \\\n",
       "1   sergio agüero     20   16.0   14.0      3.0            34.0   \n",
       "2  alexis sánchez     15    0.0   12.0      7.0            29.0   \n",
       "3  saido berahino   13.8   21.0    9.0      0.0            20.0   \n",
       "\n",
       "   point_per_game  points position             team  \n",
       "1           13.12  209.98  forward  manchester city  \n",
       "2           11.19  223.86  forward          arsenal  \n",
       "3            7.02  147.43  forward        west brom  "
      ]
     },
     "execution_count": 64,
     "metadata": {},
     "output_type": "execute_result"
    }
   ],
   "source": [
    "df_2.loc[0:2, 'salary'] = [20.0, 15.0]; df_2.head(3)"
   ]
  },
  {
   "cell_type": "code",
   "execution_count": 65,
   "metadata": {
    "collapsed": false
   },
   "outputs": [
    {
     "data": {
      "text/html": [
       "<div>\n",
       "<table border=\"1\" class=\"dataframe\">\n",
       "  <thead>\n",
       "    <tr style=\"text-align: right;\">\n",
       "      <th></th>\n",
       "      <th>player</th>\n",
       "      <th>salary</th>\n",
       "      <th>games</th>\n",
       "      <th>goals</th>\n",
       "      <th>assists</th>\n",
       "      <th>shot_on_target</th>\n",
       "      <th>point_per_game</th>\n",
       "      <th>points</th>\n",
       "      <th>position</th>\n",
       "      <th>team</th>\n",
       "    </tr>\n",
       "  </thead>\n",
       "  <tbody>\n",
       "    <tr>\n",
       "      <th>1</th>\n",
       "      <td>sergio agüero</td>\n",
       "      <td>19.2</td>\n",
       "      <td>16.0</td>\n",
       "      <td>14.0</td>\n",
       "      <td>3.0</td>\n",
       "      <td>34.0</td>\n",
       "      <td>13.12</td>\n",
       "      <td>209.98</td>\n",
       "      <td>forward</td>\n",
       "      <td>manchester city</td>\n",
       "    </tr>\n",
       "    <tr>\n",
       "      <th>2</th>\n",
       "      <td>alexis sánchez</td>\n",
       "      <td>17.6</td>\n",
       "      <td>0.0</td>\n",
       "      <td>12.0</td>\n",
       "      <td>7.0</td>\n",
       "      <td>29.0</td>\n",
       "      <td>11.19</td>\n",
       "      <td>223.86</td>\n",
       "      <td>forward</td>\n",
       "      <td>arsenal</td>\n",
       "    </tr>\n",
       "    <tr>\n",
       "      <th>3</th>\n",
       "      <td>saido berahino</td>\n",
       "      <td>13.8</td>\n",
       "      <td>21.0</td>\n",
       "      <td>9.0</td>\n",
       "      <td>0.0</td>\n",
       "      <td>20.0</td>\n",
       "      <td>7.02</td>\n",
       "      <td>147.43</td>\n",
       "      <td>forward</td>\n",
       "      <td>west brom</td>\n",
       "    </tr>\n",
       "  </tbody>\n",
       "</table>\n",
       "</div>"
      ],
      "text/plain": [
       "           player salary  games  goals  assists  shot_on_target  \\\n",
       "1   sergio agüero   19.2   16.0   14.0      3.0            34.0   \n",
       "2  alexis sánchez   17.6    0.0   12.0      7.0            29.0   \n",
       "3  saido berahino   13.8   21.0    9.0      0.0            20.0   \n",
       "\n",
       "   point_per_game  points position             team  \n",
       "1           13.12  209.98  forward  manchester city  \n",
       "2           11.19  223.86  forward          arsenal  \n",
       "3            7.02  147.43  forward        west brom  "
      ]
     },
     "execution_count": 65,
     "metadata": {},
     "output_type": "execute_result"
    }
   ],
   "source": [
    "df.head(3)"
   ]
  },
  {
   "cell_type": "code",
   "execution_count": 66,
   "metadata": {
    "collapsed": false
   },
   "outputs": [
    {
     "data": {
      "text/html": [
       "<div>\n",
       "<table border=\"1\" class=\"dataframe\">\n",
       "  <thead>\n",
       "    <tr style=\"text-align: right;\">\n",
       "      <th></th>\n",
       "      <th>salary</th>\n",
       "      <th>games</th>\n",
       "      <th>goals</th>\n",
       "      <th>assists</th>\n",
       "      <th>shot_on_target</th>\n",
       "      <th>point_per_game</th>\n",
       "      <th>points</th>\n",
       "      <th>position</th>\n",
       "      <th>team</th>\n",
       "    </tr>\n",
       "    <tr>\n",
       "      <th>player</th>\n",
       "      <th></th>\n",
       "      <th></th>\n",
       "      <th></th>\n",
       "      <th></th>\n",
       "      <th></th>\n",
       "      <th></th>\n",
       "      <th></th>\n",
       "      <th></th>\n",
       "      <th></th>\n",
       "    </tr>\n",
       "  </thead>\n",
       "  <tbody>\n",
       "    <tr>\n",
       "      <th>sergio agüero</th>\n",
       "      <td>19.2</td>\n",
       "      <td>16.0</td>\n",
       "      <td>14.0</td>\n",
       "      <td>3.0</td>\n",
       "      <td>34.0</td>\n",
       "      <td>13.12</td>\n",
       "      <td>209.98</td>\n",
       "      <td>forward</td>\n",
       "      <td>manchester city</td>\n",
       "    </tr>\n",
       "    <tr>\n",
       "      <th>alexis sánchez</th>\n",
       "      <td>17.6</td>\n",
       "      <td>0.0</td>\n",
       "      <td>12.0</td>\n",
       "      <td>7.0</td>\n",
       "      <td>29.0</td>\n",
       "      <td>11.19</td>\n",
       "      <td>223.86</td>\n",
       "      <td>forward</td>\n",
       "      <td>arsenal</td>\n",
       "    </tr>\n",
       "    <tr>\n",
       "      <th>saido berahino</th>\n",
       "      <td>13.8</td>\n",
       "      <td>21.0</td>\n",
       "      <td>9.0</td>\n",
       "      <td>0.0</td>\n",
       "      <td>20.0</td>\n",
       "      <td>7.02</td>\n",
       "      <td>147.43</td>\n",
       "      <td>forward</td>\n",
       "      <td>west brom</td>\n",
       "    </tr>\n",
       "    <tr>\n",
       "      <th>eden hazard</th>\n",
       "      <td>18.9</td>\n",
       "      <td>21.0</td>\n",
       "      <td>8.0</td>\n",
       "      <td>4.0</td>\n",
       "      <td>17.0</td>\n",
       "      <td>13.05</td>\n",
       "      <td>274.04</td>\n",
       "      <td>midfield</td>\n",
       "      <td>chelsea</td>\n",
       "    </tr>\n",
       "    <tr>\n",
       "      <th>yaya touré</th>\n",
       "      <td>16.6</td>\n",
       "      <td>18.0</td>\n",
       "      <td>7.0</td>\n",
       "      <td>1.0</td>\n",
       "      <td>19.0</td>\n",
       "      <td>10.99</td>\n",
       "      <td>197.91</td>\n",
       "      <td>midfield</td>\n",
       "      <td>manchester city</td>\n",
       "    </tr>\n",
       "    <tr>\n",
       "      <th>david silva</th>\n",
       "      <td>14.3</td>\n",
       "      <td>15.0</td>\n",
       "      <td>6.0</td>\n",
       "      <td>2.0</td>\n",
       "      <td>11.0</td>\n",
       "      <td>10.35</td>\n",
       "      <td>155.26</td>\n",
       "      <td>midfield</td>\n",
       "      <td>manchester city</td>\n",
       "    </tr>\n",
       "    <tr>\n",
       "      <th>steven gerrard</th>\n",
       "      <td>13.8</td>\n",
       "      <td>20.0</td>\n",
       "      <td>5.0</td>\n",
       "      <td>1.0</td>\n",
       "      <td>11.0</td>\n",
       "      <td>7.50</td>\n",
       "      <td>150.01</td>\n",
       "      <td>midfield</td>\n",
       "      <td>liverpool</td>\n",
       "    </tr>\n",
       "    <tr>\n",
       "      <th>santiago cazorla</th>\n",
       "      <td>14.8</td>\n",
       "      <td>20.0</td>\n",
       "      <td>4.0</td>\n",
       "      <td>0.0</td>\n",
       "      <td>20.0</td>\n",
       "      <td>9.97</td>\n",
       "      <td>0.00</td>\n",
       "      <td>midfield</td>\n",
       "      <td>arsenal</td>\n",
       "    </tr>\n",
       "    <tr>\n",
       "      <th>ángel di maría</th>\n",
       "      <td>15.0</td>\n",
       "      <td>13.0</td>\n",
       "      <td>3.0</td>\n",
       "      <td>0.0</td>\n",
       "      <td>13.0</td>\n",
       "      <td>10.17</td>\n",
       "      <td>132.23</td>\n",
       "      <td>midfield</td>\n",
       "      <td>manchester united</td>\n",
       "    </tr>\n",
       "    <tr>\n",
       "      <th>cesc fàbregas</th>\n",
       "      <td>14.0</td>\n",
       "      <td>20.0</td>\n",
       "      <td>2.0</td>\n",
       "      <td>14.0</td>\n",
       "      <td>10.0</td>\n",
       "      <td>10.47</td>\n",
       "      <td>209.49</td>\n",
       "      <td>midfield</td>\n",
       "      <td>chelsea</td>\n",
       "    </tr>\n",
       "    <tr>\n",
       "      <th>new player</th>\n",
       "      <td>12.3</td>\n",
       "      <td>NaN</td>\n",
       "      <td>NaN</td>\n",
       "      <td>NaN</td>\n",
       "      <td>NaN</td>\n",
       "      <td>NaN</td>\n",
       "      <td>NaN</td>\n",
       "      <td>NaN</td>\n",
       "      <td>NaN</td>\n",
       "    </tr>\n",
       "  </tbody>\n",
       "</table>\n",
       "</div>"
      ],
      "text/plain": [
       "                 salary  games  goals  assists  shot_on_target  \\\n",
       "player                                                           \n",
       "sergio agüero      19.2   16.0   14.0      3.0            34.0   \n",
       "alexis sánchez     17.6    0.0   12.0      7.0            29.0   \n",
       "saido berahino     13.8   21.0    9.0      0.0            20.0   \n",
       "eden hazard        18.9   21.0    8.0      4.0            17.0   \n",
       "yaya touré         16.6   18.0    7.0      1.0            19.0   \n",
       "david silva        14.3   15.0    6.0      2.0            11.0   \n",
       "steven gerrard     13.8   20.0    5.0      1.0            11.0   \n",
       "santiago cazorla   14.8   20.0    4.0      0.0            20.0   \n",
       "ángel di maría     15.0   13.0    3.0      0.0            13.0   \n",
       "cesc fàbregas      14.0   20.0    2.0     14.0            10.0   \n",
       "new player         12.3    NaN    NaN      NaN             NaN   \n",
       "\n",
       "                  point_per_game  points  position               team  \n",
       "player                                                                 \n",
       "sergio agüero              13.12  209.98   forward    manchester city  \n",
       "alexis sánchez             11.19  223.86   forward            arsenal  \n",
       "saido berahino              7.02  147.43   forward          west brom  \n",
       "eden hazard                13.05  274.04  midfield            chelsea  \n",
       "yaya touré                 10.99  197.91  midfield    manchester city  \n",
       "david silva                10.35  155.26  midfield    manchester city  \n",
       "steven gerrard              7.50  150.01  midfield          liverpool  \n",
       "santiago cazorla            9.97    0.00  midfield            arsenal  \n",
       "ángel di maría             10.17  132.23  midfield  manchester united  \n",
       "cesc fàbregas              10.47  209.49  midfield            chelsea  \n",
       "new player                   NaN     NaN       NaN                NaN  "
      ]
     },
     "execution_count": 66,
     "metadata": {},
     "output_type": "execute_result"
    }
   ],
   "source": [
    "df.set_index('player')"
   ]
  },
  {
   "cell_type": "code",
   "execution_count": 67,
   "metadata": {
    "collapsed": false
   },
   "outputs": [
    {
     "data": {
      "text/html": [
       "<div>\n",
       "<table border=\"1\" class=\"dataframe\">\n",
       "  <thead>\n",
       "    <tr style=\"text-align: right;\">\n",
       "      <th></th>\n",
       "      <th>player</th>\n",
       "      <th>salary</th>\n",
       "      <th>games</th>\n",
       "      <th>goals</th>\n",
       "      <th>assists</th>\n",
       "      <th>shot_on_target</th>\n",
       "      <th>point_per_game</th>\n",
       "      <th>points</th>\n",
       "      <th>position</th>\n",
       "      <th>team</th>\n",
       "    </tr>\n",
       "  </thead>\n",
       "  <tbody>\n",
       "    <tr>\n",
       "      <th>1</th>\n",
       "      <td>sergio agüero</td>\n",
       "      <td>19.2</td>\n",
       "      <td>16.0</td>\n",
       "      <td>14.0</td>\n",
       "      <td>3.0</td>\n",
       "      <td>34.0</td>\n",
       "      <td>13.12</td>\n",
       "      <td>209.98</td>\n",
       "      <td>forward</td>\n",
       "      <td>manchester city</td>\n",
       "    </tr>\n",
       "    <tr>\n",
       "      <th>2</th>\n",
       "      <td>alexis sánchez</td>\n",
       "      <td>17.6</td>\n",
       "      <td>0.0</td>\n",
       "      <td>12.0</td>\n",
       "      <td>7.0</td>\n",
       "      <td>29.0</td>\n",
       "      <td>11.19</td>\n",
       "      <td>223.86</td>\n",
       "      <td>forward</td>\n",
       "      <td>arsenal</td>\n",
       "    </tr>\n",
       "    <tr>\n",
       "      <th>3</th>\n",
       "      <td>saido berahino</td>\n",
       "      <td>13.8</td>\n",
       "      <td>21.0</td>\n",
       "      <td>9.0</td>\n",
       "      <td>0.0</td>\n",
       "      <td>20.0</td>\n",
       "      <td>7.02</td>\n",
       "      <td>147.43</td>\n",
       "      <td>forward</td>\n",
       "      <td>west brom</td>\n",
       "    </tr>\n",
       "  </tbody>\n",
       "</table>\n",
       "</div>"
      ],
      "text/plain": [
       "           player salary  games  goals  assists  shot_on_target  \\\n",
       "1   sergio agüero   19.2   16.0   14.0      3.0            34.0   \n",
       "2  alexis sánchez   17.6    0.0   12.0      7.0            29.0   \n",
       "3  saido berahino   13.8   21.0    9.0      0.0            20.0   \n",
       "\n",
       "   point_per_game  points position             team  \n",
       "1           13.12  209.98  forward  manchester city  \n",
       "2           11.19  223.86  forward          arsenal  \n",
       "3            7.02  147.43  forward        west brom  "
      ]
     },
     "execution_count": 67,
     "metadata": {},
     "output_type": "execute_result"
    }
   ],
   "source": [
    "df.head(3)"
   ]
  },
  {
   "cell_type": "code",
   "execution_count": 68,
   "metadata": {
    "collapsed": false
   },
   "outputs": [
    {
     "data": {
      "text/html": [
       "<div>\n",
       "<table border=\"1\" class=\"dataframe\">\n",
       "  <thead>\n",
       "    <tr style=\"text-align: right;\">\n",
       "      <th></th>\n",
       "      <th>salary</th>\n",
       "      <th>games</th>\n",
       "      <th>goals</th>\n",
       "      <th>assists</th>\n",
       "      <th>shot_on_target</th>\n",
       "      <th>point_per_game</th>\n",
       "      <th>points</th>\n",
       "      <th>position</th>\n",
       "      <th>team</th>\n",
       "    </tr>\n",
       "    <tr>\n",
       "      <th>player</th>\n",
       "      <th></th>\n",
       "      <th></th>\n",
       "      <th></th>\n",
       "      <th></th>\n",
       "      <th></th>\n",
       "      <th></th>\n",
       "      <th></th>\n",
       "      <th></th>\n",
       "      <th></th>\n",
       "    </tr>\n",
       "  </thead>\n",
       "  <tbody>\n",
       "    <tr>\n",
       "      <th>sergio agüero</th>\n",
       "      <td>19.2</td>\n",
       "      <td>16.0</td>\n",
       "      <td>14.0</td>\n",
       "      <td>3.0</td>\n",
       "      <td>34.0</td>\n",
       "      <td>13.12</td>\n",
       "      <td>209.98</td>\n",
       "      <td>forward</td>\n",
       "      <td>manchester city</td>\n",
       "    </tr>\n",
       "    <tr>\n",
       "      <th>alexis sánchez</th>\n",
       "      <td>17.6</td>\n",
       "      <td>0.0</td>\n",
       "      <td>12.0</td>\n",
       "      <td>7.0</td>\n",
       "      <td>29.0</td>\n",
       "      <td>11.19</td>\n",
       "      <td>223.86</td>\n",
       "      <td>forward</td>\n",
       "      <td>arsenal</td>\n",
       "    </tr>\n",
       "    <tr>\n",
       "      <th>saido berahino</th>\n",
       "      <td>13.8</td>\n",
       "      <td>21.0</td>\n",
       "      <td>9.0</td>\n",
       "      <td>0.0</td>\n",
       "      <td>20.0</td>\n",
       "      <td>7.02</td>\n",
       "      <td>147.43</td>\n",
       "      <td>forward</td>\n",
       "      <td>west brom</td>\n",
       "    </tr>\n",
       "  </tbody>\n",
       "</table>\n",
       "</div>"
      ],
      "text/plain": [
       "               salary  games  goals  assists  shot_on_target  point_per_game  \\\n",
       "player                                                                         \n",
       "sergio agüero    19.2   16.0   14.0      3.0            34.0           13.12   \n",
       "alexis sánchez   17.6    0.0   12.0      7.0            29.0           11.19   \n",
       "saido berahino   13.8   21.0    9.0      0.0            20.0            7.02   \n",
       "\n",
       "                points position             team  \n",
       "player                                            \n",
       "sergio agüero   209.98  forward  manchester city  \n",
       "alexis sánchez  223.86  forward          arsenal  \n",
       "saido berahino  147.43  forward        west brom  "
      ]
     },
     "execution_count": 68,
     "metadata": {},
     "output_type": "execute_result"
    }
   ],
   "source": [
    "df.set_index('player', inplace=True)\n",
    "df_2.set_index('player', inplace=True)\n",
    "df.head(3)"
   ]
  },
  {
   "cell_type": "code",
   "execution_count": 69,
   "metadata": {
    "collapsed": false
   },
   "outputs": [
    {
     "data": {
      "text/html": [
       "<div>\n",
       "<table border=\"1\" class=\"dataframe\">\n",
       "  <thead>\n",
       "    <tr style=\"text-align: right;\">\n",
       "      <th></th>\n",
       "      <th>salary</th>\n",
       "      <th>games</th>\n",
       "      <th>goals</th>\n",
       "      <th>assists</th>\n",
       "      <th>shot_on_target</th>\n",
       "      <th>point_per_game</th>\n",
       "      <th>points</th>\n",
       "      <th>position</th>\n",
       "      <th>team</th>\n",
       "    </tr>\n",
       "    <tr>\n",
       "      <th>player</th>\n",
       "      <th></th>\n",
       "      <th></th>\n",
       "      <th></th>\n",
       "      <th></th>\n",
       "      <th></th>\n",
       "      <th></th>\n",
       "      <th></th>\n",
       "      <th></th>\n",
       "      <th></th>\n",
       "    </tr>\n",
       "  </thead>\n",
       "  <tbody>\n",
       "    <tr>\n",
       "      <th>sergio agüero</th>\n",
       "      <td>20</td>\n",
       "      <td>16.0</td>\n",
       "      <td>14.0</td>\n",
       "      <td>3.0</td>\n",
       "      <td>34.0</td>\n",
       "      <td>13.12</td>\n",
       "      <td>209.98</td>\n",
       "      <td>forward</td>\n",
       "      <td>manchester city</td>\n",
       "    </tr>\n",
       "    <tr>\n",
       "      <th>alexis sánchez</th>\n",
       "      <td>15</td>\n",
       "      <td>0.0</td>\n",
       "      <td>12.0</td>\n",
       "      <td>7.0</td>\n",
       "      <td>29.0</td>\n",
       "      <td>11.19</td>\n",
       "      <td>223.86</td>\n",
       "      <td>forward</td>\n",
       "      <td>arsenal</td>\n",
       "    </tr>\n",
       "    <tr>\n",
       "      <th>saido berahino</th>\n",
       "      <td>13.8</td>\n",
       "      <td>21.0</td>\n",
       "      <td>9.0</td>\n",
       "      <td>0.0</td>\n",
       "      <td>20.0</td>\n",
       "      <td>7.02</td>\n",
       "      <td>147.43</td>\n",
       "      <td>forward</td>\n",
       "      <td>west brom</td>\n",
       "    </tr>\n",
       "  </tbody>\n",
       "</table>\n",
       "</div>"
      ],
      "text/plain": [
       "               salary  games  goals  assists  shot_on_target  point_per_game  \\\n",
       "player                                                                         \n",
       "sergio agüero      20   16.0   14.0      3.0            34.0           13.12   \n",
       "alexis sánchez     15    0.0   12.0      7.0            29.0           11.19   \n",
       "saido berahino   13.8   21.0    9.0      0.0            20.0            7.02   \n",
       "\n",
       "                points position             team  \n",
       "player                                            \n",
       "sergio agüero   209.98  forward  manchester city  \n",
       "alexis sánchez  223.86  forward          arsenal  \n",
       "saido berahino  147.43  forward        west brom  "
      ]
     },
     "execution_count": 69,
     "metadata": {},
     "output_type": "execute_result"
    }
   ],
   "source": [
    "# update the 'salary' column\n",
    "df.update(other=df_2['salary'], overwrite=True); df.head(3)"
   ]
  },
  {
   "cell_type": "code",
   "execution_count": 70,
   "metadata": {
    "collapsed": false
   },
   "outputs": [
    {
     "data": {
      "text/html": [
       "<div>\n",
       "<table border=\"1\" class=\"dataframe\">\n",
       "  <thead>\n",
       "    <tr style=\"text-align: right;\">\n",
       "      <th></th>\n",
       "      <th>player</th>\n",
       "      <th>salary</th>\n",
       "      <th>games</th>\n",
       "      <th>goals</th>\n",
       "      <th>assists</th>\n",
       "      <th>shot_on_target</th>\n",
       "      <th>point_per_game</th>\n",
       "      <th>points</th>\n",
       "      <th>position</th>\n",
       "      <th>team</th>\n",
       "    </tr>\n",
       "  </thead>\n",
       "  <tbody>\n",
       "    <tr>\n",
       "      <th>0</th>\n",
       "      <td>sergio agüero</td>\n",
       "      <td>20</td>\n",
       "      <td>16.0</td>\n",
       "      <td>14.0</td>\n",
       "      <td>3.0</td>\n",
       "      <td>34.0</td>\n",
       "      <td>13.12</td>\n",
       "      <td>209.98</td>\n",
       "      <td>forward</td>\n",
       "      <td>manchester city</td>\n",
       "    </tr>\n",
       "    <tr>\n",
       "      <th>1</th>\n",
       "      <td>alexis sánchez</td>\n",
       "      <td>15</td>\n",
       "      <td>0.0</td>\n",
       "      <td>12.0</td>\n",
       "      <td>7.0</td>\n",
       "      <td>29.0</td>\n",
       "      <td>11.19</td>\n",
       "      <td>223.86</td>\n",
       "      <td>forward</td>\n",
       "      <td>arsenal</td>\n",
       "    </tr>\n",
       "    <tr>\n",
       "      <th>2</th>\n",
       "      <td>saido berahino</td>\n",
       "      <td>13.8</td>\n",
       "      <td>21.0</td>\n",
       "      <td>9.0</td>\n",
       "      <td>0.0</td>\n",
       "      <td>20.0</td>\n",
       "      <td>7.02</td>\n",
       "      <td>147.43</td>\n",
       "      <td>forward</td>\n",
       "      <td>west brom</td>\n",
       "    </tr>\n",
       "  </tbody>\n",
       "</table>\n",
       "</div>"
      ],
      "text/plain": [
       "           player salary  games  goals  assists  shot_on_target  \\\n",
       "0   sergio agüero     20   16.0   14.0      3.0            34.0   \n",
       "1  alexis sánchez     15    0.0   12.0      7.0            29.0   \n",
       "2  saido berahino   13.8   21.0    9.0      0.0            20.0   \n",
       "\n",
       "   point_per_game  points position             team  \n",
       "0           13.12  209.98  forward  manchester city  \n",
       "1           11.19  223.86  forward          arsenal  \n",
       "2            7.02  147.43  forward        west brom  "
      ]
     },
     "execution_count": 70,
     "metadata": {},
     "output_type": "execute_result"
    }
   ],
   "source": [
    "# reset index\n",
    "df.reset_index(inplace=True); df.head(3)"
   ]
  },
  {
   "cell_type": "markdown",
   "metadata": {},
   "source": [
    "# Chaining Conditions - Using Bitwise Operators"
   ]
  },
  {
   "cell_type": "code",
   "execution_count": 71,
   "metadata": {
    "collapsed": false
   },
   "outputs": [
    {
     "data": {
      "text/html": [
       "<div>\n",
       "<table border=\"1\" class=\"dataframe\">\n",
       "  <thead>\n",
       "    <tr style=\"text-align: right;\">\n",
       "      <th></th>\n",
       "      <th>player</th>\n",
       "      <th>salary</th>\n",
       "      <th>games</th>\n",
       "      <th>goals</th>\n",
       "      <th>assists</th>\n",
       "      <th>shot_on_target</th>\n",
       "      <th>point_per_game</th>\n",
       "      <th>points</th>\n",
       "      <th>position</th>\n",
       "      <th>team</th>\n",
       "    </tr>\n",
       "  </thead>\n",
       "  <tbody>\n",
       "    <tr>\n",
       "      <th>1</th>\n",
       "      <td>alexis sánchez</td>\n",
       "      <td>15</td>\n",
       "      <td>0.0</td>\n",
       "      <td>12.0</td>\n",
       "      <td>7.0</td>\n",
       "      <td>29.0</td>\n",
       "      <td>11.19</td>\n",
       "      <td>223.86</td>\n",
       "      <td>forward</td>\n",
       "      <td>arsenal</td>\n",
       "    </tr>\n",
       "    <tr>\n",
       "      <th>3</th>\n",
       "      <td>eden hazard</td>\n",
       "      <td>18.9</td>\n",
       "      <td>21.0</td>\n",
       "      <td>8.0</td>\n",
       "      <td>4.0</td>\n",
       "      <td>17.0</td>\n",
       "      <td>13.05</td>\n",
       "      <td>274.04</td>\n",
       "      <td>midfield</td>\n",
       "      <td>chelsea</td>\n",
       "    </tr>\n",
       "    <tr>\n",
       "      <th>7</th>\n",
       "      <td>santiago cazorla</td>\n",
       "      <td>14.8</td>\n",
       "      <td>20.0</td>\n",
       "      <td>4.0</td>\n",
       "      <td>0.0</td>\n",
       "      <td>20.0</td>\n",
       "      <td>9.97</td>\n",
       "      <td>0.00</td>\n",
       "      <td>midfield</td>\n",
       "      <td>arsenal</td>\n",
       "    </tr>\n",
       "    <tr>\n",
       "      <th>9</th>\n",
       "      <td>cesc fàbregas</td>\n",
       "      <td>14.0</td>\n",
       "      <td>20.0</td>\n",
       "      <td>2.0</td>\n",
       "      <td>14.0</td>\n",
       "      <td>10.0</td>\n",
       "      <td>10.47</td>\n",
       "      <td>209.49</td>\n",
       "      <td>midfield</td>\n",
       "      <td>chelsea</td>\n",
       "    </tr>\n",
       "  </tbody>\n",
       "</table>\n",
       "</div>"
      ],
      "text/plain": [
       "             player salary  games  goals  assists  shot_on_target  \\\n",
       "1    alexis sánchez     15    0.0   12.0      7.0            29.0   \n",
       "3       eden hazard   18.9   21.0    8.0      4.0            17.0   \n",
       "7  santiago cazorla   14.8   20.0    4.0      0.0            20.0   \n",
       "9     cesc fàbregas   14.0   20.0    2.0     14.0            10.0   \n",
       "\n",
       "   point_per_game  points  position     team  \n",
       "1           11.19  223.86   forward  arsenal  \n",
       "3           13.05  274.04  midfield  chelsea  \n",
       "7            9.97    0.00  midfield  arsenal  \n",
       "9           10.47  209.49  midfield  chelsea  "
      ]
     },
     "execution_count": 71,
     "metadata": {},
     "output_type": "execute_result"
    }
   ],
   "source": [
    "# Selecting only those players that either playing for Arsenal or Chelsea\n",
    "df[(df['team'] == 'arsenal') | (df['team'] == 'chelsea')]"
   ]
  },
  {
   "cell_type": "code",
   "execution_count": 73,
   "metadata": {
    "collapsed": false
   },
   "outputs": [
    {
     "data": {
      "text/html": [
       "<div>\n",
       "<table border=\"1\" class=\"dataframe\">\n",
       "  <thead>\n",
       "    <tr style=\"text-align: right;\">\n",
       "      <th></th>\n",
       "      <th>player</th>\n",
       "      <th>salary</th>\n",
       "      <th>games</th>\n",
       "      <th>goals</th>\n",
       "      <th>assists</th>\n",
       "      <th>shot_on_target</th>\n",
       "      <th>point_per_game</th>\n",
       "      <th>points</th>\n",
       "      <th>position</th>\n",
       "      <th>team</th>\n",
       "    </tr>\n",
       "  </thead>\n",
       "  <tbody>\n",
       "    <tr>\n",
       "      <th>1</th>\n",
       "      <td>alexis sánchez</td>\n",
       "      <td>15</td>\n",
       "      <td>0.0</td>\n",
       "      <td>12.0</td>\n",
       "      <td>7.0</td>\n",
       "      <td>29.0</td>\n",
       "      <td>11.19</td>\n",
       "      <td>223.86</td>\n",
       "      <td>forward</td>\n",
       "      <td>arsenal</td>\n",
       "    </tr>\n",
       "  </tbody>\n",
       "</table>\n",
       "</div>"
      ],
      "text/plain": [
       "           player salary  games  goals  assists  shot_on_target  \\\n",
       "1  alexis sánchez     15    0.0   12.0      7.0            29.0   \n",
       "\n",
       "   point_per_game  points position     team  \n",
       "1           11.19  223.86  forward  arsenal  "
      ]
     },
     "execution_count": 73,
     "metadata": {},
     "output_type": "execute_result"
    }
   ],
   "source": [
    "# Selecting forwards from Arsenal only\n",
    "df[(df.team == 'arsenal') & (df.position == 'forward')]"
   ]
  },
  {
   "cell_type": "markdown",
   "metadata": {},
   "source": [
    "# Column Types"
   ]
  },
  {
   "cell_type": "code",
   "execution_count": 74,
   "metadata": {
    "collapsed": false
   },
   "outputs": [
    {
     "data": {
      "text/plain": [
       "(Index(['player', 'salary', 'games', 'goals', 'assists', 'shot_on_target',\n",
       "        'point_per_game', 'points', 'position', 'team'],\n",
       "       dtype='object'), pandas.indexes.base.Index)"
      ]
     },
     "execution_count": 74,
     "metadata": {},
     "output_type": "execute_result"
    }
   ],
   "source": [
    "df.columns, type(df.columns)"
   ]
  },
  {
   "cell_type": "code",
   "execution_count": 75,
   "metadata": {
    "collapsed": true
   },
   "outputs": [],
   "source": [
    "types = df.columns.to_series?"
   ]
  },
  {
   "cell_type": "code",
   "execution_count": 76,
   "metadata": {
    "collapsed": false
   },
   "outputs": [
    {
     "data": {
      "text/plain": [
       "player                    player\n",
       "salary                    salary\n",
       "games                      games\n",
       "goals                      goals\n",
       "assists                  assists\n",
       "shot_on_target    shot_on_target\n",
       "point_per_game    point_per_game\n",
       "points                    points\n",
       "position                position\n",
       "team                        team\n",
       "dtype: object"
      ]
     },
     "execution_count": 76,
     "metadata": {},
     "output_type": "execute_result"
    }
   ],
   "source": [
    "df.columns.to_series()"
   ]
  },
  {
   "cell_type": "code",
   "execution_count": 77,
   "metadata": {
    "collapsed": false
   },
   "outputs": [
    {
     "data": {
      "text/plain": [
       "<pandas.core.groupby.SeriesGroupBy object at 0x7fc628f77eb8>"
      ]
     },
     "execution_count": 77,
     "metadata": {},
     "output_type": "execute_result"
    }
   ],
   "source": [
    "df.columns.to_series().groupby(df.dtypes)"
   ]
  },
  {
   "cell_type": "code",
   "execution_count": 78,
   "metadata": {
    "collapsed": false
   },
   "outputs": [
    {
     "data": {
      "text/plain": [
       "{dtype('float64'): Index(['games', 'goals', 'assists', 'shot_on_target', 'point_per_game',\n",
       "        'points'],\n",
       "       dtype='object'),\n",
       " dtype('O'): Index(['player', 'salary', 'position', 'team'], dtype='object')}"
      ]
     },
     "execution_count": 78,
     "metadata": {},
     "output_type": "execute_result"
    }
   ],
   "source": [
    "types = df.columns.to_series().groupby(df.dtypes).groups\n",
    "types"
   ]
  },
  {
   "cell_type": "code",
   "execution_count": 85,
   "metadata": {
    "collapsed": false
   },
   "outputs": [
    {
     "data": {
      "text/plain": [
       "(dict, 2)"
      ]
     },
     "execution_count": 85,
     "metadata": {},
     "output_type": "execute_result"
    }
   ],
   "source": [
    "type(types), len(types)"
   ]
  },
  {
   "cell_type": "code",
   "execution_count": 87,
   "metadata": {
    "collapsed": false
   },
   "outputs": [
    {
     "name": "stdout",
     "output_type": "stream",
     "text": [
      "object\n",
      "float64\n"
     ]
    }
   ],
   "source": [
    "for key in types:\n",
    "    print(key)"
   ]
  },
  {
   "cell_type": "markdown",
   "metadata": {},
   "source": [
    "### Selecting by Column Type"
   ]
  },
  {
   "cell_type": "code",
   "execution_count": 92,
   "metadata": {
    "collapsed": false
   },
   "outputs": [
    {
     "data": {
      "text/html": [
       "<div>\n",
       "<table border=\"1\" class=\"dataframe\">\n",
       "  <thead>\n",
       "    <tr style=\"text-align: right;\">\n",
       "      <th></th>\n",
       "      <th>player</th>\n",
       "      <th>salary</th>\n",
       "      <th>games</th>\n",
       "      <th>goals</th>\n",
       "      <th>assists</th>\n",
       "      <th>shot_on_target</th>\n",
       "      <th>point_per_game</th>\n",
       "      <th>points</th>\n",
       "      <th>position</th>\n",
       "      <th>team</th>\n",
       "    </tr>\n",
       "  </thead>\n",
       "  <tbody>\n",
       "    <tr>\n",
       "      <th>0</th>\n",
       "      <td>sergio agüero</td>\n",
       "      <td>20</td>\n",
       "      <td>16.0</td>\n",
       "      <td>14.0</td>\n",
       "      <td>3.0</td>\n",
       "      <td>34.0</td>\n",
       "      <td>13.12</td>\n",
       "      <td>209.98</td>\n",
       "      <td>forward</td>\n",
       "      <td>manchester city</td>\n",
       "    </tr>\n",
       "    <tr>\n",
       "      <th>1</th>\n",
       "      <td>alexis sánchez</td>\n",
       "      <td>15</td>\n",
       "      <td>0.0</td>\n",
       "      <td>12.0</td>\n",
       "      <td>7.0</td>\n",
       "      <td>29.0</td>\n",
       "      <td>11.19</td>\n",
       "      <td>223.86</td>\n",
       "      <td>forward</td>\n",
       "      <td>arsenal</td>\n",
       "    </tr>\n",
       "    <tr>\n",
       "      <th>2</th>\n",
       "      <td>saido berahino</td>\n",
       "      <td>13.8</td>\n",
       "      <td>21.0</td>\n",
       "      <td>9.0</td>\n",
       "      <td>0.0</td>\n",
       "      <td>20.0</td>\n",
       "      <td>7.02</td>\n",
       "      <td>147.43</td>\n",
       "      <td>forward</td>\n",
       "      <td>west brom</td>\n",
       "    </tr>\n",
       "    <tr>\n",
       "      <th>3</th>\n",
       "      <td>eden hazard</td>\n",
       "      <td>18.9</td>\n",
       "      <td>21.0</td>\n",
       "      <td>8.0</td>\n",
       "      <td>4.0</td>\n",
       "      <td>17.0</td>\n",
       "      <td>13.05</td>\n",
       "      <td>274.04</td>\n",
       "      <td>midfield</td>\n",
       "      <td>chelsea</td>\n",
       "    </tr>\n",
       "    <tr>\n",
       "      <th>4</th>\n",
       "      <td>yaya touré</td>\n",
       "      <td>16.6</td>\n",
       "      <td>18.0</td>\n",
       "      <td>7.0</td>\n",
       "      <td>1.0</td>\n",
       "      <td>19.0</td>\n",
       "      <td>10.99</td>\n",
       "      <td>197.91</td>\n",
       "      <td>midfield</td>\n",
       "      <td>manchester city</td>\n",
       "    </tr>\n",
       "    <tr>\n",
       "      <th>5</th>\n",
       "      <td>david silva</td>\n",
       "      <td>14.3</td>\n",
       "      <td>15.0</td>\n",
       "      <td>6.0</td>\n",
       "      <td>2.0</td>\n",
       "      <td>11.0</td>\n",
       "      <td>10.35</td>\n",
       "      <td>155.26</td>\n",
       "      <td>midfield</td>\n",
       "      <td>manchester city</td>\n",
       "    </tr>\n",
       "    <tr>\n",
       "      <th>6</th>\n",
       "      <td>steven gerrard</td>\n",
       "      <td>13.8</td>\n",
       "      <td>20.0</td>\n",
       "      <td>5.0</td>\n",
       "      <td>1.0</td>\n",
       "      <td>11.0</td>\n",
       "      <td>7.50</td>\n",
       "      <td>150.01</td>\n",
       "      <td>midfield</td>\n",
       "      <td>liverpool</td>\n",
       "    </tr>\n",
       "    <tr>\n",
       "      <th>7</th>\n",
       "      <td>santiago cazorla</td>\n",
       "      <td>14.8</td>\n",
       "      <td>20.0</td>\n",
       "      <td>4.0</td>\n",
       "      <td>0.0</td>\n",
       "      <td>20.0</td>\n",
       "      <td>9.97</td>\n",
       "      <td>0.00</td>\n",
       "      <td>midfield</td>\n",
       "      <td>arsenal</td>\n",
       "    </tr>\n",
       "    <tr>\n",
       "      <th>8</th>\n",
       "      <td>ángel di maría</td>\n",
       "      <td>15.0</td>\n",
       "      <td>13.0</td>\n",
       "      <td>3.0</td>\n",
       "      <td>0.0</td>\n",
       "      <td>13.0</td>\n",
       "      <td>10.17</td>\n",
       "      <td>132.23</td>\n",
       "      <td>midfield</td>\n",
       "      <td>manchester united</td>\n",
       "    </tr>\n",
       "    <tr>\n",
       "      <th>9</th>\n",
       "      <td>cesc fàbregas</td>\n",
       "      <td>14.0</td>\n",
       "      <td>20.0</td>\n",
       "      <td>2.0</td>\n",
       "      <td>14.0</td>\n",
       "      <td>10.0</td>\n",
       "      <td>10.47</td>\n",
       "      <td>209.49</td>\n",
       "      <td>midfield</td>\n",
       "      <td>chelsea</td>\n",
       "    </tr>\n",
       "    <tr>\n",
       "      <th>10</th>\n",
       "      <td>new player</td>\n",
       "      <td>12.3</td>\n",
       "      <td>NaN</td>\n",
       "      <td>NaN</td>\n",
       "      <td>NaN</td>\n",
       "      <td>NaN</td>\n",
       "      <td>NaN</td>\n",
       "      <td>NaN</td>\n",
       "      <td>NaN</td>\n",
       "      <td>NaN</td>\n",
       "    </tr>\n",
       "  </tbody>\n",
       "</table>\n",
       "</div>"
      ],
      "text/plain": [
       "              player salary  games  goals  assists  shot_on_target  \\\n",
       "0      sergio agüero     20   16.0   14.0      3.0            34.0   \n",
       "1     alexis sánchez     15    0.0   12.0      7.0            29.0   \n",
       "2     saido berahino   13.8   21.0    9.0      0.0            20.0   \n",
       "3        eden hazard   18.9   21.0    8.0      4.0            17.0   \n",
       "4         yaya touré   16.6   18.0    7.0      1.0            19.0   \n",
       "5        david silva   14.3   15.0    6.0      2.0            11.0   \n",
       "6     steven gerrard   13.8   20.0    5.0      1.0            11.0   \n",
       "7   santiago cazorla   14.8   20.0    4.0      0.0            20.0   \n",
       "8     ángel di maría   15.0   13.0    3.0      0.0            13.0   \n",
       "9      cesc fàbregas   14.0   20.0    2.0     14.0            10.0   \n",
       "10        new player   12.3    NaN    NaN      NaN             NaN   \n",
       "\n",
       "    point_per_game  points  position               team  \n",
       "0            13.12  209.98   forward    manchester city  \n",
       "1            11.19  223.86   forward            arsenal  \n",
       "2             7.02  147.43   forward          west brom  \n",
       "3            13.05  274.04  midfield            chelsea  \n",
       "4            10.99  197.91  midfield    manchester city  \n",
       "5            10.35  155.26  midfield    manchester city  \n",
       "6             7.50  150.01  midfield          liverpool  \n",
       "7             9.97    0.00  midfield            arsenal  \n",
       "8            10.17  132.23  midfield  manchester united  \n",
       "9            10.47  209.49  midfield            chelsea  \n",
       "10             NaN     NaN       NaN                NaN  "
      ]
     },
     "execution_count": 92,
     "metadata": {},
     "output_type": "execute_result"
    }
   ],
   "source": [
    "df"
   ]
  },
  {
   "cell_type": "code",
   "execution_count": 102,
   "metadata": {
    "collapsed": false
   },
   "outputs": [
    {
     "data": {
      "text/plain": [
       "dtype('O')"
      ]
     },
     "execution_count": 102,
     "metadata": {},
     "output_type": "execute_result"
    }
   ],
   "source": [
    "np.dtype('O')"
   ]
  },
  {
   "cell_type": "code",
   "execution_count": 103,
   "metadata": {
    "collapsed": false
   },
   "outputs": [
    {
     "data": {
      "text/plain": [
       "dtype('O')"
      ]
     },
     "execution_count": 103,
     "metadata": {},
     "output_type": "execute_result"
    }
   ],
   "source": [
    "np.dtype('object')"
   ]
  },
  {
   "cell_type": "code",
   "execution_count": 104,
   "metadata": {
    "collapsed": false
   },
   "outputs": [
    {
     "data": {
      "text/plain": [
       "player             object\n",
       "salary             object\n",
       "games             float64\n",
       "goals             float64\n",
       "assists           float64\n",
       "shot_on_target    float64\n",
       "point_per_game    float64\n",
       "points            float64\n",
       "position           object\n",
       "team               object\n",
       "dtype: object"
      ]
     },
     "execution_count": 104,
     "metadata": {},
     "output_type": "execute_result"
    }
   ],
   "source": [
    "df.dtypes"
   ]
  },
  {
   "cell_type": "code",
   "execution_count": 105,
   "metadata": {
    "collapsed": false
   },
   "outputs": [
    {
     "data": {
      "text/plain": [
       "True"
      ]
     },
     "execution_count": 105,
     "metadata": {},
     "output_type": "execute_result"
    }
   ],
   "source": [
    "np.dtype('O') == object"
   ]
  },
  {
   "cell_type": "code",
   "execution_count": 106,
   "metadata": {
    "collapsed": false
   },
   "outputs": [
    {
     "data": {
      "text/html": [
       "<div>\n",
       "<table border=\"1\" class=\"dataframe\">\n",
       "  <thead>\n",
       "    <tr style=\"text-align: right;\">\n",
       "      <th></th>\n",
       "      <th>player</th>\n",
       "      <th>salary</th>\n",
       "      <th>position</th>\n",
       "      <th>team</th>\n",
       "    </tr>\n",
       "  </thead>\n",
       "  <tbody>\n",
       "    <tr>\n",
       "      <th>0</th>\n",
       "      <td>sergio agüero</td>\n",
       "      <td>20</td>\n",
       "      <td>forward</td>\n",
       "      <td>manchester city</td>\n",
       "    </tr>\n",
       "    <tr>\n",
       "      <th>1</th>\n",
       "      <td>alexis sánchez</td>\n",
       "      <td>15</td>\n",
       "      <td>forward</td>\n",
       "      <td>arsenal</td>\n",
       "    </tr>\n",
       "    <tr>\n",
       "      <th>2</th>\n",
       "      <td>saido berahino</td>\n",
       "      <td>13.8</td>\n",
       "      <td>forward</td>\n",
       "      <td>west brom</td>\n",
       "    </tr>\n",
       "    <tr>\n",
       "      <th>3</th>\n",
       "      <td>eden hazard</td>\n",
       "      <td>18.9</td>\n",
       "      <td>midfield</td>\n",
       "      <td>chelsea</td>\n",
       "    </tr>\n",
       "    <tr>\n",
       "      <th>4</th>\n",
       "      <td>yaya touré</td>\n",
       "      <td>16.6</td>\n",
       "      <td>midfield</td>\n",
       "      <td>manchester city</td>\n",
       "    </tr>\n",
       "  </tbody>\n",
       "</table>\n",
       "</div>"
      ],
      "text/plain": [
       "           player salary  position             team\n",
       "0   sergio agüero     20   forward  manchester city\n",
       "1  alexis sánchez     15   forward          arsenal\n",
       "2  saido berahino   13.8   forward        west brom\n",
       "3     eden hazard   18.9  midfield          chelsea\n",
       "4      yaya touré   16.6  midfield  manchester city"
      ]
     },
     "execution_count": 106,
     "metadata": {},
     "output_type": "execute_result"
    }
   ],
   "source": [
    "df.loc[:, df.dtypes == np.dtype('O')].head()"
   ]
  },
  {
   "cell_type": "code",
   "execution_count": 107,
   "metadata": {
    "collapsed": false
   },
   "outputs": [
    {
     "data": {
      "text/html": [
       "<div>\n",
       "<table border=\"1\" class=\"dataframe\">\n",
       "  <thead>\n",
       "    <tr style=\"text-align: right;\">\n",
       "      <th></th>\n",
       "      <th>player</th>\n",
       "      <th>salary</th>\n",
       "      <th>position</th>\n",
       "      <th>team</th>\n",
       "    </tr>\n",
       "  </thead>\n",
       "  <tbody>\n",
       "    <tr>\n",
       "      <th>0</th>\n",
       "      <td>sergio agüero</td>\n",
       "      <td>20</td>\n",
       "      <td>forward</td>\n",
       "      <td>manchester city</td>\n",
       "    </tr>\n",
       "    <tr>\n",
       "      <th>1</th>\n",
       "      <td>alexis sánchez</td>\n",
       "      <td>15</td>\n",
       "      <td>forward</td>\n",
       "      <td>arsenal</td>\n",
       "    </tr>\n",
       "    <tr>\n",
       "      <th>2</th>\n",
       "      <td>saido berahino</td>\n",
       "      <td>13.8</td>\n",
       "      <td>forward</td>\n",
       "      <td>west brom</td>\n",
       "    </tr>\n",
       "    <tr>\n",
       "      <th>3</th>\n",
       "      <td>eden hazard</td>\n",
       "      <td>18.9</td>\n",
       "      <td>midfield</td>\n",
       "      <td>chelsea</td>\n",
       "    </tr>\n",
       "    <tr>\n",
       "      <th>4</th>\n",
       "      <td>yaya touré</td>\n",
       "      <td>16.6</td>\n",
       "      <td>midfield</td>\n",
       "      <td>manchester city</td>\n",
       "    </tr>\n",
       "  </tbody>\n",
       "</table>\n",
       "</div>"
      ],
      "text/plain": [
       "           player salary  position             team\n",
       "0   sergio agüero     20   forward  manchester city\n",
       "1  alexis sánchez     15   forward          arsenal\n",
       "2  saido berahino   13.8   forward        west brom\n",
       "3     eden hazard   18.9  midfield          chelsea\n",
       "4      yaya touré   16.6  midfield  manchester city"
      ]
     },
     "execution_count": 107,
     "metadata": {},
     "output_type": "execute_result"
    }
   ],
   "source": [
    "df.loc[:, (df.dtypes == np.dtype('O')).values].head()"
   ]
  },
  {
   "cell_type": "markdown",
   "metadata": {},
   "source": [
    "### Converting Column Types"
   ]
  },
  {
   "cell_type": "code",
   "execution_count": 110,
   "metadata": {
    "collapsed": false
   },
   "outputs": [
    {
     "data": {
      "text/plain": [
       "dtype('O')"
      ]
     },
     "execution_count": 110,
     "metadata": {},
     "output_type": "execute_result"
    }
   ],
   "source": [
    "df.salary.dtypes"
   ]
  },
  {
   "cell_type": "code",
   "execution_count": 111,
   "metadata": {
    "collapsed": true
   },
   "outputs": [],
   "source": [
    "df.salary = df.salary.astype(float)"
   ]
  },
  {
   "cell_type": "code",
   "execution_count": 112,
   "metadata": {
    "collapsed": false
   },
   "outputs": [
    {
     "data": {
      "text/plain": [
       "dtype('float64')"
      ]
     },
     "execution_count": 112,
     "metadata": {},
     "output_type": "execute_result"
    }
   ],
   "source": [
    "df.salary.dtypes"
   ]
  },
  {
   "cell_type": "code",
   "execution_count": 114,
   "metadata": {
    "collapsed": false
   },
   "outputs": [
    {
     "data": {
      "text/plain": [
       "{dtype('float64'): Index(['salary', 'games', 'goals', 'assists', 'shot_on_target',\n",
       "        'point_per_game', 'points'],\n",
       "       dtype='object'),\n",
       " dtype('O'): Index(['player', 'position', 'team'], dtype='object')}"
      ]
     },
     "execution_count": 114,
     "metadata": {},
     "output_type": "execute_result"
    }
   ],
   "source": [
    "types = df.columns.to_series().groupby(df.dtypes).groups\n",
    "types"
   ]
  },
  {
   "cell_type": "code",
   "execution_count": 115,
   "metadata": {
    "collapsed": false
   },
   "outputs": [
    {
     "data": {
      "text/plain": [
       "2"
      ]
     },
     "execution_count": 115,
     "metadata": {},
     "output_type": "execute_result"
    }
   ],
   "source": [
    "len(types)"
   ]
  },
  {
   "cell_type": "markdown",
   "metadata": {},
   "source": [
    "# If-tests"
   ]
  },
  {
   "cell_type": "code",
   "execution_count": 116,
   "metadata": {
    "collapsed": false
   },
   "outputs": [
    {
     "data": {
      "text/plain": [
       "(1, 0)"
      ]
     },
     "execution_count": 116,
     "metadata": {},
     "output_type": "execute_result"
    }
   ],
   "source": [
    "int(True), int(False)"
   ]
  },
  {
   "cell_type": "code",
   "execution_count": 117,
   "metadata": {
    "collapsed": true
   },
   "outputs": [],
   "source": [
    "a = [[2., .3, 4., 5.], [.8, .03, 0.02, 5.]]"
   ]
  },
  {
   "cell_type": "code",
   "execution_count": 118,
   "metadata": {
    "collapsed": true
   },
   "outputs": [],
   "source": [
    "df = pd.DataFrame(a)"
   ]
  },
  {
   "cell_type": "code",
   "execution_count": 119,
   "metadata": {
    "collapsed": false
   },
   "outputs": [
    {
     "data": {
      "text/html": [
       "<div>\n",
       "<table border=\"1\" class=\"dataframe\">\n",
       "  <thead>\n",
       "    <tr style=\"text-align: right;\">\n",
       "      <th></th>\n",
       "      <th>0</th>\n",
       "      <th>1</th>\n",
       "      <th>2</th>\n",
       "      <th>3</th>\n",
       "    </tr>\n",
       "  </thead>\n",
       "  <tbody>\n",
       "    <tr>\n",
       "      <th>0</th>\n",
       "      <td>2.0</td>\n",
       "      <td>0.30</td>\n",
       "      <td>4.00</td>\n",
       "      <td>5.0</td>\n",
       "    </tr>\n",
       "    <tr>\n",
       "      <th>1</th>\n",
       "      <td>0.8</td>\n",
       "      <td>0.03</td>\n",
       "      <td>0.02</td>\n",
       "      <td>5.0</td>\n",
       "    </tr>\n",
       "  </tbody>\n",
       "</table>\n",
       "</div>"
      ],
      "text/plain": [
       "     0     1     2    3\n",
       "0  2.0  0.30  4.00  5.0\n",
       "1  0.8  0.03  0.02  5.0"
      ]
     },
     "execution_count": 119,
     "metadata": {},
     "output_type": "execute_result"
    }
   ],
   "source": [
    "df"
   ]
  },
  {
   "cell_type": "code",
   "execution_count": 120,
   "metadata": {
    "collapsed": true
   },
   "outputs": [],
   "source": [
    "mask = df <= 0.05"
   ]
  },
  {
   "cell_type": "code",
   "execution_count": 121,
   "metadata": {
    "collapsed": false
   },
   "outputs": [
    {
     "data": {
      "text/html": [
       "<div>\n",
       "<table border=\"1\" class=\"dataframe\">\n",
       "  <thead>\n",
       "    <tr style=\"text-align: right;\">\n",
       "      <th></th>\n",
       "      <th>0</th>\n",
       "      <th>1</th>\n",
       "      <th>2</th>\n",
       "      <th>3</th>\n",
       "    </tr>\n",
       "  </thead>\n",
       "  <tbody>\n",
       "    <tr>\n",
       "      <th>0</th>\n",
       "      <td>False</td>\n",
       "      <td>False</td>\n",
       "      <td>False</td>\n",
       "      <td>False</td>\n",
       "    </tr>\n",
       "    <tr>\n",
       "      <th>1</th>\n",
       "      <td>False</td>\n",
       "      <td>True</td>\n",
       "      <td>True</td>\n",
       "      <td>False</td>\n",
       "    </tr>\n",
       "  </tbody>\n",
       "</table>\n",
       "</div>"
      ],
      "text/plain": [
       "       0      1      2      3\n",
       "0  False  False  False  False\n",
       "1  False   True   True  False"
      ]
     },
     "execution_count": 121,
     "metadata": {},
     "output_type": "execute_result"
    }
   ],
   "source": [
    "mask"
   ]
  },
  {
   "cell_type": "code",
   "execution_count": 123,
   "metadata": {
    "collapsed": false
   },
   "outputs": [
    {
     "data": {
      "text/html": [
       "<div>\n",
       "<table border=\"1\" class=\"dataframe\">\n",
       "  <thead>\n",
       "    <tr style=\"text-align: right;\">\n",
       "      <th></th>\n",
       "      <th>0</th>\n",
       "      <th>1</th>\n",
       "      <th>2</th>\n",
       "      <th>3</th>\n",
       "    </tr>\n",
       "  </thead>\n",
       "  <tbody>\n",
       "    <tr>\n",
       "      <th>0</th>\n",
       "      <td>0</td>\n",
       "      <td>0</td>\n",
       "      <td>0</td>\n",
       "      <td>0</td>\n",
       "    </tr>\n",
       "    <tr>\n",
       "      <th>1</th>\n",
       "      <td>0</td>\n",
       "      <td>1</td>\n",
       "      <td>1</td>\n",
       "      <td>0</td>\n",
       "    </tr>\n",
       "  </tbody>\n",
       "</table>\n",
       "</div>"
      ],
      "text/plain": [
       "   0  1  2  3\n",
       "0  0  0  0  0\n",
       "1  0  1  1  0"
      ]
     },
     "execution_count": 123,
     "metadata": {},
     "output_type": "execute_result"
    }
   ],
   "source": [
    "mask.astype(int)"
   ]
  },
  {
   "cell_type": "code",
   "execution_count": null,
   "metadata": {
    "collapsed": true
   },
   "outputs": [],
   "source": []
  }
 ],
 "metadata": {
  "kernelspec": {
   "display_name": "Python 3",
   "language": "python",
   "name": "python3"
  },
  "language_info": {
   "codemirror_mode": {
    "name": "ipython",
    "version": 3
   },
   "file_extension": ".py",
   "mimetype": "text/x-python",
   "name": "python",
   "nbconvert_exporter": "python",
   "pygments_lexer": "ipython3",
   "version": "3.4.3"
  }
 },
 "nbformat": 4,
 "nbformat_minor": 2
}
